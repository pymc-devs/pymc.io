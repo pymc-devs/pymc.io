{
 "cells": [
  {
   "cell_type": "markdown",
   "id": "3e991cb4",
   "metadata": {},
   "source": [
    "(v4_announcement)=\n",
    "# PyMC 4.0 Release Announcement\n",
    "\n",
    ":::{post} Apr 4, 2022\n",
    ":tags: release, aesara, jax\n",
    ":category: news\n",
    ":author: Thomas Wiecki\n",
    ":::\n",
    "\n",
    "We, the PyMC core development team, are incredibly excited to announce the release of a major rewrite of PyMC3 (now called just PyMC): `4.0`. This marks the first major new version in over 10 years. There are many exciting new updates that we will talk about in this and upcoming blog posts. \n",
    "\n",
    "## Full API compatibility for model building\n",
    "\n",
    "To get the main question out of the way: Yes, you can just keep your existing PyMC modeling code without having to change anything (in most cases) and get all the improvements for free. The only thing most users will have to change is the import from `import pymc3 as pm` to `import pymc as pm`. For more information, see the [quick migration guide](https://www.pymc-labs.io/blog-posts/the-quickest-migration-guide-ever-from-pymc3-to-pymc-v40/). If you are using more advanced features of PyMC beyond the modeling API, you might have to change some things.\n",
    "\n",
    "## It's now called PyMC instead of PyMC3\n",
    "First, the biggest news: **PyMC3 has been renamed to PyMC. PyMC3 version 3.x will stay under the current name to not break production systems but future versions will use the PyMC name everywhere.** While there were a few reasons for this, the main one is that PyMC3 4.0 is quite confusing.\n",
    "\n",
    "## What about PyMC4?\n",
    "If you don't know what PyMC4 is, you can just skip this section. In brief, it was an experiment we did using TensorFlow Probability as a backend which we gave up on. The motivation for abandoning this is described in our previous post [\"The Future of PyMC3, or: Theano is Dead, Long Live Theano\"](https://pymc-devs.medium.com/the-future-of-pymc3-or-theano-is-dead-long-live-theano-d8005f8a0e9b)\n",
    "\n",
    "In general, you should refer to the new version as \"PyMC 4.0\" or \"PyMC v4\".\n",
    "\n",
    "## Theano -> Aesara\n",
    "\n",
    "Getting to know other tensor libraries like TensorFlow and PyTorch better made us realize how amazing and unique `Theano` really is. It has a mature and hackable code base and a simple graph representation that allows easy graph manipulations, something that's very useful for probabilistic programming languages.\n",
    "\n",
    "So we went ahead and forked the library and undertook a massive cleaning up of the code-base (this charge was led by [Brandon Willard](https://twitter.com/brandontwillard)), removing swaths of old and obscure code, and restructuring the entire library to be more developer friendly.\n",
    "\n",
    "This rewrite motivated renaming the package to [`Aesara`](https://github.com/aesara-devs/aesara) (Theano's daughter in Greek mythology). Quickly, a new developer team focused around improving `aesara` independent of `PyMC`.\n",
    "\n",
    "One major new feature are the two new computational backends: `JAX` and `numba`. The way this works is that `aesara` is best understood as a computational graph library that allows you to build a computational graphs out of array-operations (additions, multiplications, dot-products, indexing, for-loops). From this graph representation, we can do various things:\n",
    "* graph optimizations like `log(exp(x)) -> x`\n",
    "* symbolic rewrites like `N(0, 1) + a` -> `N(a, 1)`\n",
    "* compilation of that graph to various computational backends.\n",
    "\n",
    "Previously, `theano` supported Python and C as computational backends. But with `aesara` it is now possible, and in fact quite easy, to add new computational backends. We have currently added a `JAX` backend that comes with GPU support (see [this blog post](https://martiningram.github.io/mcmc-comparison/) for some impressive speed-ups using GPUs for sampling). We're also in the process of adding a `numba` backend.\n",
    "\n",
    "## What's new in PyMC 4.0?"
   ]
  },
  {
   "cell_type": "markdown",
   "id": "6961936e",
   "metadata": {},
   "source": [
    "### New JAX backend for faster sampling\n",
    "\n",
    "By far the most exciting new feature are the new computational backends and the associated speed-ups. \n",
    "\n",
    "As mentioned above, `aesara` provides a representation of the model logp graph in form of various `aesara` `Ops` (operators) which represent the computations to be be performed. For example `exp(x + y)` would be an `Add` `Op` with two input arguments `x` and `y`. The result of the `Add` `Op` is then inputted into an `exp` `Op`.\n",
    "\n",
    "This computation graph doesn't say anything about how we actually *execute* this graph. Before, we would transpile this graph to C-code which would then get compiled, loaded into Python as a C-extension, and then executed. But now, we can just transpile this graph to `JAX` instead.\n",
    "\n",
    "While this by itself is already pretty exciting, because `JAX` is capable of a whole bunch of low-level optimizations which lead to faster logp evaluations, we still have our samplers written in Python, so there is still some call-overhead. \n",
    "\n",
    "To get rid of this, we can link the `JAX` graph produced by `aesara` with a sampler also written in `JAX`. That way, the model logp evaluation *and* the sampler are one big JAX graph that gets optimized and executed without any Python call-overhead. We currently support a NUTS implementation provided by `numpyro` as well as `blackjax`.\n",
    "\n",
    "Early experiments and benchmarks show impressive speed-ups. Here is a small example of how much faster this is on a fairly small and simple model: the hierarchical linear regression of the famous Radon example."
   ]
  },
  {
   "cell_type": "code",
   "execution_count": null,
   "id": "0bb8b07d",
   "metadata": {},
   "outputs": [],
   "source": [
    "# Standard imports\n",
    "import numpy as np\n",
    "import arviz as a\n",
    "import matplotlib.pyplot as plt\n",
    "import seaborn as sns\n",
    "import pandas as pd\n",
    "RANDOM_SEED = 8927\n",
    "rng = np.random.default_rng(RANDOM_SEED)\n",
    "np.set_printoptions(2)"
   ]
  },
  {
   "cell_type": "markdown",
   "id": "b8419bfb",
   "metadata": {},
   "source": [
    "In order to do side-by-side comparisons, I installed both, the old `PyMC3` and `Theano` as well as the new `PyMC 4.0` and `Aesara` into this environment. You will only need the new packages of course."
   ]
  },
  {
   "cell_type": "code",
   "execution_count": null,
   "id": "1892286c",
   "metadata": {},
   "outputs": [],
   "source": [
    "# PyMC Imports\n",
    "import pymc3 as pm3 # PyMC3 3.11\n",
    "import pymc as pm4 # PyMC 4.0\n",
    "\n",
    "# Aesara and Theano imports\n",
    "import theano.tensor as tt # used by PyMC3 3.11\n",
    "import aesara.tensor as at # used by PyMC 4.0"
   ]
  },
  {
   "cell_type": "markdown",
   "id": "457a069b",
   "metadata": {},
   "source": [
    "Load in radon dataset and preprocess:"
   ]
  },
  {
   "cell_type": "code",
   "execution_count": 8,
   "id": "56593190",
   "metadata": {},
   "outputs": [],
   "source": [
    "data = pd.read_csv(\"/Users/twiecki/personal/homepage/WhileMyMCMCGentlySamples/content/radon.csv\")\n",
    "#data = pd.read_csv(pm4.get_data(\"radon.csv\"))\n",
    "county_names = data.county.unique()\n",
    "\n",
    "data[\"log_radon\"] = data[\"log_radon\"].astype(theano.config.floatX)\n",
    "\n",
    "county_idx, counties = pd.factorize(data.county)\n",
    "coords = {\n",
    "    \"county\": counties,\n",
    "    \"obs_id\": np.arange(len(county_idx)),\n",
    "}"
   ]
  },
  {
   "cell_type": "markdown",
   "id": "ddc4fcc3",
   "metadata": {},
   "source": [
    "Next, let's define our model inside of a function. Note that we provide `pm`, our PyMC library, as an argument here. This allows us to create this model in `pymc3` or `pymc 4.0`. Here you can also see that most models that work in `pymc3` also work in `pymc 4.0` without any code change, you only need to change your imports."
   ]
  },
  {
   "cell_type": "code",
   "execution_count": 29,
   "id": "5677df97",
   "metadata": {},
   "outputs": [],
   "source": [
    "def build_model(pm, **kwargs):\n",
    "    with pm.Model(coords=coords) as hierarchical_model:\n",
    "        mu_a = pm.Normal(\"mu_a\", mu=0.0, sigma=10)\n",
    "        sigma_a = pm.HalfNormal(\"sigma_a\", 5.0)\n",
    "        mu_b = pm.Normal(\"mu_b\", mu=0.0, sigma=10)\n",
    "        sigma_b = pm.HalfNormal(\"sigma_b\", 5.0)\n",
    "        a = pm.Normal(\"a\", dims=\"county\") * sigma_a + mu_a\n",
    "        b = pm.Normal(\"b\", dims=\"county\") * sigma_b + mu_b\n",
    "        eps = pm.HalfNormal(\"eps\", 5.0)\n",
    "        radon_est = a[county_idx] + b[county_idx] * data.floor.values\n",
    "        radon_like = pm.Normal(\n",
    "            \"radon_like\", mu=radon_est, sigma=eps, observed=data.log_radon, \n",
    "            dims=\"obs_id\"\n",
    "        )\n",
    "        \n",
    "    return hierarchical_model"
   ]
  },
  {
   "cell_type": "markdown",
   "id": "430fff1c",
   "metadata": {},
   "source": [
    "Create and sample model in `pymc3`, nothing special:"
   ]
  },
  {
   "cell_type": "code",
   "execution_count": 32,
   "id": "24d8528b",
   "metadata": {
    "scrolled": true
   },
   "outputs": [
    {
     "name": "stderr",
     "output_type": "stream",
     "text": [
      "Auto-assigning NUTS sampler...\n",
      "INFO:pymc3:Auto-assigning NUTS sampler...\n",
      "Initializing NUTS using jitter+adapt_diag...\n",
      "INFO:pymc3:Initializing NUTS using jitter+adapt_diag...\n",
      "Multiprocess sampling (4 chains in 4 jobs)\n",
      "INFO:pymc3:Multiprocess sampling (4 chains in 4 jobs)\n",
      "NUTS: [eps, b, a, sigma_b, mu_b, sigma_a, mu_a]\n",
      "INFO:pymc3:NUTS: [eps, b, a, sigma_b, mu_b, sigma_a, mu_a]\n",
      "WARNING (theano.link.c.cmodule): install mkl with `conda install mkl-service`: No module named 'mkl'\n",
      "WARNING (theano.link.c.cmodule): install mkl with `conda install mkl-service`: No module named 'mkl'\n",
      "WARNING (theano.link.c.cmodule): install mkl with `conda install mkl-service`: No module named 'mkl'\n",
      "WARNING (theano.link.c.cmodule): install mkl with `conda install mkl-service`: No module named 'mkl'\n"
     ]
    },
    {
     "data": {
      "text/html": [
       "\n",
       "    <div>\n",
       "        <style>\n",
       "            /* Turns off some styling */\n",
       "            progress {\n",
       "                /* gets rid of default border in Firefox and Opera. */\n",
       "                border: none;\n",
       "                /* Needs to be in here for Safari polyfill so background images work as expected. */\n",
       "                background-size: auto;\n",
       "            }\n",
       "            .progress-bar-interrupted, .progress-bar-interrupted::-webkit-progress-bar {\n",
       "                background: #F44336;\n",
       "            }\n",
       "        </style>\n",
       "      <progress value='8000' class='' max='8000' style='width:300px; height:20px; vertical-align: middle;'></progress>\n",
       "      100.00% [8000/8000 00:04<00:00 Sampling 4 chains, 58 divergences]\n",
       "    </div>\n",
       "    "
      ],
      "text/plain": [
       "<IPython.core.display.HTML object>"
      ]
     },
     "metadata": {},
     "output_type": "display_data"
    },
    {
     "name": "stderr",
     "output_type": "stream",
     "text": [
      "/Users/twiecki/miniforge3/envs/pymc4b1/lib/python3.9/site-packages/scipy/stats/_continuous_distns.py:624: RuntimeWarning: overflow encountered in _beta_ppf\n",
      "  return _boost._beta_ppf(q, a, b)\n",
      "/Users/twiecki/miniforge3/envs/pymc4b1/lib/python3.9/site-packages/scipy/stats/_continuous_distns.py:624: RuntimeWarning: overflow encountered in _beta_ppf\n",
      "  return _boost._beta_ppf(q, a, b)\n",
      "/Users/twiecki/miniforge3/envs/pymc4b1/lib/python3.9/site-packages/scipy/stats/_continuous_distns.py:624: RuntimeWarning: overflow encountered in _beta_ppf\n",
      "  return _boost._beta_ppf(q, a, b)\n",
      "/Users/twiecki/miniforge3/envs/pymc4b1/lib/python3.9/site-packages/scipy/stats/_continuous_distns.py:624: RuntimeWarning: overflow encountered in _beta_ppf\n",
      "  return _boost._beta_ppf(q, a, b)\n",
      "Sampling 4 chains for 1_000 tune and 1_000 draw iterations (4_000 + 4_000 draws total) took 10 seconds.\n",
      "INFO:pymc3:Sampling 4 chains for 1_000 tune and 1_000 draw iterations (4_000 + 4_000 draws total) took 10 seconds.\n",
      "There were 50 divergences after tuning. Increase `target_accept` or reparameterize.\n",
      "ERROR:pymc3:There were 50 divergences after tuning. Increase `target_accept` or reparameterize.\n",
      "There were 6 divergences after tuning. Increase `target_accept` or reparameterize.\n",
      "ERROR:pymc3:There were 6 divergences after tuning. Increase `target_accept` or reparameterize.\n",
      "There were 2 divergences after tuning. Increase `target_accept` or reparameterize.\n",
      "ERROR:pymc3:There were 2 divergences after tuning. Increase `target_accept` or reparameterize.\n",
      "The number of effective samples is smaller than 25% for some parameters.\n",
      "INFO:pymc3:The number of effective samples is smaller than 25% for some parameters.\n"
     ]
    },
    {
     "name": "stdout",
     "output_type": "stream",
     "text": [
      "CPU times: user 4.23 s, sys: 244 ms, total: 4.47 s\n",
      "Wall time: 12.7 s\n"
     ]
    }
   ],
   "source": [
    "%%time\n",
    "model_pymc3 = build_model(pm3)\n",
    "with model_pymc3:\n",
    "    idata_pymc3 = pm3.sample(return_inferencedata=True)"
   ]
  },
  {
   "cell_type": "markdown",
   "id": "6a26c73f",
   "metadata": {},
   "source": [
    "Create and sample model in `pymc` 4.0, also nothing special:"
   ]
  },
  {
   "cell_type": "code",
   "execution_count": 33,
   "id": "3aad554c",
   "metadata": {},
   "outputs": [
    {
     "name": "stderr",
     "output_type": "stream",
     "text": [
      "Auto-assigning NUTS sampler...\n",
      "INFO:pymc:Auto-assigning NUTS sampler...\n",
      "Initializing NUTS using jitter+adapt_diag...\n",
      "INFO:pymc:Initializing NUTS using jitter+adapt_diag...\n",
      "/Users/twiecki/projects/pymc/pymc/model.py:984: FutureWarning: `Model.initial_point` has been deprecated. Use `Model.recompute_initial_point(seed=None)`.\n",
      "  warnings.warn(\n",
      "Multiprocess sampling (4 chains in 4 jobs)\n",
      "INFO:pymc:Multiprocess sampling (4 chains in 4 jobs)\n",
      "NUTS: [mu_a, sigma_a, mu_b, sigma_b, a, b, eps]\n",
      "INFO:pymc:NUTS: [mu_a, sigma_a, mu_b, sigma_b, a, b, eps]\n",
      "WARNING (theano.link.c.cmodule): install mkl with `conda install mkl-service`: No module named 'mkl'\n",
      "!!!!!!!!!!!!!!!!!!!!!!!!!!!!!!!!!!!!!!!!!!!!!!!!!!!!!!!!!!!!\n",
      "Your Python environment has Theano(-PyMC) 1.1.2 installed, but you are importing PyMC 4.0.0b1 which uses Aesara as its backend.\n",
      "For PyMC 4.0.0b1 to work as expected you should uninstall Theano(-PyMC).\n",
      "See https://github.com/pymc-devs/pymc/wiki for update instructions.\n",
      "!!!!!!!!!!!!!!!!!!!!!!!!!!!!!!!!!!!!!!!!!!!!!!!!!!!!!!!!!!!!\n",
      "!!!!!!!!!!!!!!!!!!!!!!!!!!!!!!!!!!!!!!!!!!!!!!!!!!!!!!!!!!!!\n",
      "You are importing PyMC 4.0.0b1, but your environment also has the legacy version PyMC3 3.11.4 installed.\n",
      "For PyMC 4.0.0b1 to work as expected you should uninstall PyMC3.\n",
      "See https://github.com/pymc-devs/pymc/wiki for update instructions.\n",
      "!!!!!!!!!!!!!!!!!!!!!!!!!!!!!!!!!!!!!!!!!!!!!!!!!!!!!!!!!!!!\n",
      "WARNING (theano.link.c.cmodule): install mkl with `conda install mkl-service`: No module named 'mkl'\n",
      "!!!!!!!!!!!!!!!!!!!!!!!!!!!!!!!!!!!!!!!!!!!!!!!!!!!!!!!!!!!!\n",
      "Your Python environment has Theano(-PyMC) 1.1.2 installed, but you are importing PyMC 4.0.0b1 which uses Aesara as its backend.\n",
      "For PyMC 4.0.0b1 to work as expected you should uninstall Theano(-PyMC).\n",
      "See https://github.com/pymc-devs/pymc/wiki for update instructions.\n",
      "!!!!!!!!!!!!!!!!!!!!!!!!!!!!!!!!!!!!!!!!!!!!!!!!!!!!!!!!!!!!\n",
      "!!!!!!!!!!!!!!!!!!!!!!!!!!!!!!!!!!!!!!!!!!!!!!!!!!!!!!!!!!!!\n",
      "You are importing PyMC 4.0.0b1, but your environment also has the legacy version PyMC3 3.11.4 installed.\n",
      "For PyMC 4.0.0b1 to work as expected you should uninstall PyMC3.\n",
      "See https://github.com/pymc-devs/pymc/wiki for update instructions.\n",
      "!!!!!!!!!!!!!!!!!!!!!!!!!!!!!!!!!!!!!!!!!!!!!!!!!!!!!!!!!!!!\n",
      "WARNING (theano.link.c.cmodule): install mkl with `conda install mkl-service`: No module named 'mkl'\n",
      "!!!!!!!!!!!!!!!!!!!!!!!!!!!!!!!!!!!!!!!!!!!!!!!!!!!!!!!!!!!!\n",
      "Your Python environment has Theano(-PyMC) 1.1.2 installed, but you are importing PyMC 4.0.0b1 which uses Aesara as its backend.\n",
      "For PyMC 4.0.0b1 to work as expected you should uninstall Theano(-PyMC).\n",
      "See https://github.com/pymc-devs/pymc/wiki for update instructions.\n",
      "!!!!!!!!!!!!!!!!!!!!!!!!!!!!!!!!!!!!!!!!!!!!!!!!!!!!!!!!!!!!\n",
      "!!!!!!!!!!!!!!!!!!!!!!!!!!!!!!!!!!!!!!!!!!!!!!!!!!!!!!!!!!!!\n",
      "You are importing PyMC 4.0.0b1, but your environment also has the legacy version PyMC3 3.11.4 installed.\n",
      "For PyMC 4.0.0b1 to work as expected you should uninstall PyMC3.\n",
      "See https://github.com/pymc-devs/pymc/wiki for update instructions.\n",
      "!!!!!!!!!!!!!!!!!!!!!!!!!!!!!!!!!!!!!!!!!!!!!!!!!!!!!!!!!!!!\n",
      "WARNING (theano.link.c.cmodule): install mkl with `conda install mkl-service`: No module named 'mkl'\n",
      "!!!!!!!!!!!!!!!!!!!!!!!!!!!!!!!!!!!!!!!!!!!!!!!!!!!!!!!!!!!!\n",
      "Your Python environment has Theano(-PyMC) 1.1.2 installed, but you are importing PyMC 4.0.0b1 which uses Aesara as its backend.\n",
      "For PyMC 4.0.0b1 to work as expected you should uninstall Theano(-PyMC).\n",
      "See https://github.com/pymc-devs/pymc/wiki for update instructions.\n",
      "!!!!!!!!!!!!!!!!!!!!!!!!!!!!!!!!!!!!!!!!!!!!!!!!!!!!!!!!!!!!\n",
      "!!!!!!!!!!!!!!!!!!!!!!!!!!!!!!!!!!!!!!!!!!!!!!!!!!!!!!!!!!!!\n",
      "You are importing PyMC 4.0.0b1, but your environment also has the legacy version PyMC3 3.11.4 installed.\n",
      "For PyMC 4.0.0b1 to work as expected you should uninstall PyMC3.\n",
      "See https://github.com/pymc-devs/pymc/wiki for update instructions.\n",
      "!!!!!!!!!!!!!!!!!!!!!!!!!!!!!!!!!!!!!!!!!!!!!!!!!!!!!!!!!!!!\n"
     ]
    },
    {
     "data": {
      "text/html": [
       "\n",
       "    <div>\n",
       "        <style>\n",
       "            /* Turns off some styling */\n",
       "            progress {\n",
       "                /* gets rid of default border in Firefox and Opera. */\n",
       "                border: none;\n",
       "                /* Needs to be in here for Safari polyfill so background images work as expected. */\n",
       "                background-size: auto;\n",
       "            }\n",
       "            .progress-bar-interrupted, .progress-bar-interrupted::-webkit-progress-bar {\n",
       "                background: #F44336;\n",
       "            }\n",
       "        </style>\n",
       "      <progress value='8000' class='' max='8000' style='width:300px; height:20px; vertical-align: middle;'></progress>\n",
       "      100.00% [8000/8000 00:06<00:00 Sampling 4 chains, 204 divergences]\n",
       "    </div>\n",
       "    "
      ],
      "text/plain": [
       "<IPython.core.display.HTML object>"
      ]
     },
     "metadata": {},
     "output_type": "display_data"
    },
    {
     "name": "stderr",
     "output_type": "stream",
     "text": [
      "/Users/twiecki/miniforge3/envs/pymc4b1/lib/python3.9/site-packages/scipy/stats/_continuous_distns.py:624: RuntimeWarning: overflow encountered in _beta_ppf\n",
      "  return _boost._beta_ppf(q, a, b)\n",
      "/Users/twiecki/miniforge3/envs/pymc4b1/lib/python3.9/site-packages/scipy/stats/_continuous_distns.py:624: RuntimeWarning: overflow encountered in _beta_ppf\n",
      "  return _boost._beta_ppf(q, a, b)\n",
      "/Users/twiecki/miniforge3/envs/pymc4b1/lib/python3.9/site-packages/scipy/stats/_continuous_distns.py:624: RuntimeWarning: overflow encountered in _beta_ppf\n",
      "  return _boost._beta_ppf(q, a, b)\n",
      "/Users/twiecki/miniforge3/envs/pymc4b1/lib/python3.9/site-packages/scipy/stats/_continuous_distns.py:624: RuntimeWarning: overflow encountered in _beta_ppf\n",
      "  return _boost._beta_ppf(q, a, b)\n",
      "Sampling 4 chains for 1_000 tune and 1_000 draw iterations (4_000 + 4_000 draws total) took 14 seconds.\n",
      "INFO:pymc:Sampling 4 chains for 1_000 tune and 1_000 draw iterations (4_000 + 4_000 draws total) took 14 seconds.\n",
      "There were 147 divergences after tuning. Increase `target_accept` or reparameterize.\n",
      "ERROR:pymc:There were 147 divergences after tuning. Increase `target_accept` or reparameterize.\n",
      "The acceptance probability does not match the target. It is 0.673, but should be close to 0.8. Try to increase the number of tuning steps.\n",
      "WARNING:pymc:The acceptance probability does not match the target. It is 0.673, but should be close to 0.8. Try to increase the number of tuning steps.\n",
      "There were 55 divergences after tuning. Increase `target_accept` or reparameterize.\n",
      "ERROR:pymc:There were 55 divergences after tuning. Increase `target_accept` or reparameterize.\n",
      "The acceptance probability does not match the target. It is 0.7123, but should be close to 0.8. Try to increase the number of tuning steps.\n",
      "WARNING:pymc:The acceptance probability does not match the target. It is 0.7123, but should be close to 0.8. Try to increase the number of tuning steps.\n",
      "There were 2 divergences after tuning. Increase `target_accept` or reparameterize.\n",
      "ERROR:pymc:There were 2 divergences after tuning. Increase `target_accept` or reparameterize.\n",
      "The number of effective samples is smaller than 10% for some parameters.\n",
      "WARNING:pymc:The number of effective samples is smaller than 10% for some parameters.\n"
     ]
    },
    {
     "name": "stdout",
     "output_type": "stream",
     "text": [
      "CPU times: user 4.54 s, sys: 254 ms, total: 4.79 s\n",
      "Wall time: 16.4 s\n"
     ]
    }
   ],
   "source": [
    "%%time\n",
    "model_pymc4 = build_model(pm4)\n",
    "with model_pymc4:\n",
    "    idata_pymc4 = pm4.sample()"
   ]
  },
  {
   "cell_type": "markdown",
   "id": "977d0dcc",
   "metadata": {},
   "source": [
    "Now, lets use a JAX sampler instead. Here we use the one provided by `numpyro`:"
   ]
  },
  {
   "cell_type": "code",
   "execution_count": null,
   "id": "dc9cab6d",
   "metadata": {},
   "outputs": [],
   "source": [
    "import pymc.sampling_jax"
   ]
  },
  {
   "cell_type": "code",
   "execution_count": 35,
   "id": "901becb4",
   "metadata": {
    "scrolled": true
   },
   "outputs": [
    {
     "name": "stdout",
     "output_type": "stream",
     "text": [
      "Compiling...\n"
     ]
    },
    {
     "name": "stderr",
     "output_type": "stream",
     "text": [
      "/Users/twiecki/projects/pymc/pymc/model.py:984: FutureWarning: `Model.initial_point` has been deprecated. Use `Model.recompute_initial_point(seed=None)`.\n",
      "  warnings.warn(\n"
     ]
    },
    {
     "name": "stdout",
     "output_type": "stream",
     "text": [
      "Compilation time =  0 days 00:00:00.267406\n",
      "Sampling...\n",
      "Sampling time =  0 days 00:00:05.143948\n",
      "Transforming variables...\n",
      "Transformation time =  0 days 00:00:00.017413\n",
      "CPU times: user 7.99 s, sys: 47.2 ms, total: 8.04 s\n",
      "Wall time: 5.53 s\n"
     ]
    },
    {
     "name": "stderr",
     "output_type": "stream",
     "text": [
      "/Users/twiecki/miniforge3/envs/pymc4b1/lib/python3.9/site-packages/aesara/graph/opt.py:279: UserWarning: Supervisor is not added. Please build a FunctionGraphvia aesara.compile.function.types.std_graph()or add the Supervisor class manually.\n",
      "  sub_prof = optimizer.optimize(fgraph)\n",
      "/Users/twiecki/miniforge3/envs/pymc4b1/lib/python3.9/site-packages/aesara/graph/opt.py:279: UserWarning: Supervisor is not added. Please build a FunctionGraphvia aesara.compile.function.types.std_graph()or add the Supervisor class manually.\n",
      "  sub_prof = optimizer.optimize(fgraph)\n"
     ]
    }
   ],
   "source": [
    "%%time\n",
    "with model_pymc4:\n",
    "    idata = pm4.sampling_jax.sample_numpyro_nuts(progress_bar=False)"
   ]
  },
  {
   "cell_type": "code",
   "execution_count": 36,
   "id": "a8a9098a",
   "metadata": {},
   "outputs": [
    {
     "data": {
      "text/plain": [
       "2.9656419529837246"
      ]
     },
     "execution_count": 36,
     "metadata": {},
     "output_type": "execute_result"
    }
   ],
   "source": [
    "16.4 / 5.53"
   ]
  },
  {
   "cell_type": "markdown",
   "id": "6daba83c",
   "metadata": {},
   "source": [
    "That's a speed-up of 3x -- for a single-line code change! And this is just running things on the CPU, we can just as easily run this on the GPU where we saw even more impressive speed-ups (especially as we scale the data).\n",
    "\n",
    "Again, for a more proper benchmark that also compares this to Stan, see [this blog post](https://martiningram.github.io/mcmc-comparison/).\n",
    "\n",
    "#### Numba backend\n",
    "\n",
    "The other backend that we are very excited about is `numba`. We will talk more about this as it becomes more mature.\n",
    "\n",
    "#### The next step: Samplers written in `aesara`\n",
    "\n",
    "While this current approach is already quite exciting, we can take this one step further. The setup we showed above has the model logp graph (represented in `aesara` compiled to `JAX`. This `JAX` function we then linked to a sampler written in `JAX`.\n",
    "\n",
    "This is suboptimal for two reasons:\n",
    "1. For new backends, like `numba`, we need to rewrite the sampler also in `numba`.\n",
    "2. While we get low-level optimizations from `JAX` on the logp+sampler JAX-graph, we do not get any high-level optimizations, which is what `aesara` is great at.\n",
    "\n",
    "With [`aehmc`](https://www.github.com/aesara-devs/aehmc) and [`aemcmc`](https://www.github.com/aesara-devs/aemcmc) the `aesara` devs are developing a library of samplers *written in `aesara`*. That way, our model logp, consisting out of `aesara` `Ops` can be combined with the sampler logic, also consisting out of `aesara` `Ops`, into one big `aesara` graph.\n",
    "\n",
    "On that graph, `aesara` can do high-level optimizations to get a more efficient graph representation, and then compile it to whatever backend we want: `JAX`, `numba`, `C`, or whatever other backend we add in the future.\n",
    "\n",
    "If you think this is interesting, definitely check out these packages and consider contributing, this is where the next round of innovation will come from!\n",
    "\n",
    "\n"
   ]
  },
  {
   "cell_type": "markdown",
   "id": "4b81f0cd",
   "metadata": {},
   "source": [
    "## Better integration into `aesara`\n",
    "\n",
    "The next feature we are excited about is a better integration of `PyMC` and `aesara`.\n",
    "\n",
    "In `PyMC3 3.x`, the random variables (RVs) created by e.g. calling `x = pm.Normal('x')` were not truly `theano` `Ops` which you would integrate nicely with the rest of `theano`. This created a lot of issues, limitations, and complexities in the library.\n",
    "\n",
    "`Aesara` now provides a proper `RandomVariable` Op which perfectly integrates with the rest of the other `Ops`. \n",
    "\n",
    "This is a major change in `4.0` and lead to huge swaths of code getting removed and greatly simplified. In many ways, this change is much more exciting than the different computational backends, but the effects are not quite as visible to the user.\n",
    "\n",
    "There are a few cases, however, where you can see the benefits."
   ]
  },
  {
   "cell_type": "markdown",
   "id": "44b2b973",
   "metadata": {},
   "source": [
    "### Faster posterior predictive sampling"
   ]
  },
  {
   "cell_type": "code",
   "execution_count": 86,
   "id": "be9adfd8",
   "metadata": {},
   "outputs": [
    {
     "data": {
      "text/html": [
       "\n",
       "    <div>\n",
       "        <style>\n",
       "            /* Turns off some styling */\n",
       "            progress {\n",
       "                /* gets rid of default border in Firefox and Opera. */\n",
       "                border: none;\n",
       "                /* Needs to be in here for Safari polyfill so background images work as expected. */\n",
       "                background-size: auto;\n",
       "            }\n",
       "            .progress-bar-interrupted, .progress-bar-interrupted::-webkit-progress-bar {\n",
       "                background: #F44336;\n",
       "            }\n",
       "        </style>\n",
       "      <progress value='4000' class='' max='4000' style='width:300px; height:20px; vertical-align: middle;'></progress>\n",
       "      100.00% [4000/4000 00:04<00:00]\n",
       "    </div>\n",
       "    "
      ],
      "text/plain": [
       "<IPython.core.display.HTML object>"
      ]
     },
     "metadata": {},
     "output_type": "display_data"
    },
    {
     "name": "stdout",
     "output_type": "stream",
     "text": [
      "CPU times: user 5.04 s, sys: 1.12 s, total: 6.16 s\n",
      "Wall time: 6.17 s\n"
     ]
    }
   ],
   "source": [
    "%%time\n",
    "\n",
    "with model_pymc3:\n",
    "    pm3.sample_posterior_predictive(idata_pymc3)"
   ]
  },
  {
   "cell_type": "code",
   "execution_count": 87,
   "id": "9ef50e85",
   "metadata": {},
   "outputs": [
    {
     "data": {
      "text/html": [
       "\n",
       "    <div>\n",
       "        <style>\n",
       "            /* Turns off some styling */\n",
       "            progress {\n",
       "                /* gets rid of default border in Firefox and Opera. */\n",
       "                border: none;\n",
       "                /* Needs to be in here for Safari polyfill so background images work as expected. */\n",
       "                background-size: auto;\n",
       "            }\n",
       "            .progress-bar-interrupted, .progress-bar-interrupted::-webkit-progress-bar {\n",
       "                background: #F44336;\n",
       "            }\n",
       "        </style>\n",
       "      <progress value='4000' class='' max='4000' style='width:300px; height:20px; vertical-align: middle;'></progress>\n",
       "      100.00% [4000/4000 00:00<00:00]\n",
       "    </div>\n",
       "    "
      ],
      "text/plain": [
       "<IPython.core.display.HTML object>"
      ]
     },
     "metadata": {},
     "output_type": "display_data"
    },
    {
     "name": "stdout",
     "output_type": "stream",
     "text": [
      "CPU times: user 1.59 s, sys: 32 ms, total: 1.62 s\n",
      "Wall time: 1.6 s\n"
     ]
    }
   ],
   "source": [
    "%%time\n",
    "\n",
    "with model_pymc4:\n",
    "    pm4.sample_posterior_predictive(idata_pymc4)"
   ]
  },
  {
   "cell_type": "markdown",
   "id": "15599440",
   "metadata": {},
   "source": [
    "On this model, we get a speed-up of almost 4x. This will vary on the model but in general, on models where predictive sampling was already fast, it will probably not be much faster, but on models where predictive sampling was really slow, you can expect a big speed-up.\n",
    "\n",
    "The reason for this is that predictive sampling is now happening as part of the `aesara` graph. Before, we were walking through the random variables in Python which was not only slow, but also very error-prone, so a lot of dev time was spent fixing bugs and rewriting this complicated piece of code. In `PyMC` 4.0, all that complexity is gone."
   ]
  },
  {
   "cell_type": "markdown",
   "id": "3d7ea093",
   "metadata": {},
   "source": [
    "## Work with RVs just like with Tensors\n",
    "\n",
    "In PyMC3, RVs as returned by e.g. `pm.Normal(\"x\")` behaved somewhat like a Tensor variable, but not *quite*. In PyMC 4, RVs are first-class Tensor variables that can be operated on much more freely."
   ]
  },
  {
   "cell_type": "code",
   "execution_count": 13,
   "id": "f8c21f0a",
   "metadata": {},
   "outputs": [],
   "source": [
    "with pm3.Model():\n",
    "    x3 = pm3.Normal(\"x\")\n",
    "    \n",
    "with pm4.Model():\n",
    "    x4 = pm4.Normal(\"x\")"
   ]
  },
  {
   "cell_type": "code",
   "execution_count": 14,
   "id": "96bf2513",
   "metadata": {},
   "outputs": [
    {
     "data": {
      "text/plain": [
       "pymc3.model.FreeRV"
      ]
     },
     "execution_count": 14,
     "metadata": {},
     "output_type": "execute_result"
    }
   ],
   "source": [
    "type(x3)"
   ]
  },
  {
   "cell_type": "code",
   "execution_count": 15,
   "id": "4974298a",
   "metadata": {},
   "outputs": [
    {
     "data": {
      "text/plain": [
       "aesara.tensor.var.TensorVariable"
      ]
     },
     "execution_count": 15,
     "metadata": {},
     "output_type": "execute_result"
    }
   ],
   "source": [
    "type(x4)"
   ]
  },
  {
   "cell_type": "markdown",
   "id": "db22a81f",
   "metadata": {},
   "source": [
    "Through the power of [`aeppl`](https://github.com/aesara-devs/aeppl) (a new low-level library that provides core building blocks for probabilistic programming languages on top of `aesara`), PyMC 4.0 allows you to do even more operations directly on the RV as was possible before.\n",
    "\n",
    "For example, we can `clip()` a RV using `aesara`'s `clip()` function. Also, calling `.eval()` on a RV samples a random draw from the RV, this is also new in PyMC 4.0 and makes things more consistent and allows easy interactions. "
   ]
  },
  {
   "cell_type": "code",
   "execution_count": 24,
   "id": "78504a5e",
   "metadata": {},
   "outputs": [
    {
     "data": {
      "text/plain": [
       "array(1.39867239)"
      ]
     },
     "execution_count": 24,
     "metadata": {},
     "output_type": "execute_result"
    }
   ],
   "source": [
    "at.clip(x4, 0, np.inf).eval()"
   ]
  },
  {
   "cell_type": "code",
   "execution_count": 36,
   "id": "eea963c2",
   "metadata": {},
   "outputs": [
    {
     "data": {
      "text/plain": [
       "<AxesSubplot:ylabel='Count'>"
      ]
     },
     "execution_count": 36,
     "metadata": {},
     "output_type": "execute_result"
    },
    {
     "data": {
      "image/png": "[encoded data removed]",
      "text/plain": [
       "<Figure size 432x288 with 1 Axes>"
      ]
     },
     "metadata": {
      "needs_background": "light"
     },
     "output_type": "display_data"
    }
   ],
   "source": [
    "trunc_norm = [at.clip(x4, 0, np.inf).eval() for _ in range(1000)]\n",
    "sns.histplot(np.asarray(trunc_norm))"
   ]
  },
  {
   "cell_type": "markdown",
   "id": "36b741ff",
   "metadata": {},
   "source": [
    "As you can see, negative values are clipped to be 0. And you can use this, just like any other transform, directly in your model."
   ]
  },
  {
   "cell_type": "markdown",
   "id": "dba592c9",
   "metadata": {},
   "source": [
    "But there are other things you can do as well, like `stack()` RVs, and then index into them with a binary RV."
   ]
  },
  {
   "cell_type": "code",
   "execution_count": 69,
   "id": "6a42b3b7",
   "metadata": {},
   "outputs": [
    {
     "name": "stdout",
     "output_type": "stream",
     "text": [
      "Sampled value = -0.84\n",
      "Sampled value = 0.55\n",
      "Sampled value = 0.70\n",
      "Sampled value = -0.66\n",
      "Sampled value = -0.34\n"
     ]
    }
   ],
   "source": [
    "with pm4.Model():\n",
    "    x = pm4.Uniform(\"x\", lower=-1, upper=0)\n",
    "    y = pm4.Uniform(\"y\", lower=0, upper=1)\n",
    "    xy = at.stack([x, y])\n",
    "    index = pm4.Bernoulli(\"index\", p=0.5)\n",
    "\n",
    "for _ in range(5):\n",
    "    print(\"Sampled value = {:.2f}\".format(xy[index].eval()))"
   ]
  },
  {
   "cell_type": "markdown",
   "id": "94b12cb2",
   "metadata": {},
   "source": [
    "As you can see, depending on whether `index` is `0` or `1` we either sample from the negative or positive uniform. This also supports fancy indexing, so you can manually create complicated mixture distribution using a `Categorical` like this:"
   ]
  },
  {
   "cell_type": "code",
   "execution_count": 55,
   "id": "77432dbe",
   "metadata": {},
   "outputs": [
    {
     "name": "stdout",
     "output_type": "stream",
     "text": [
      "Sampled value = [1.35927217 0.20451265 1.35927217]\n",
      "Sampled value = [ 1.01280942 -0.1336057   0.45787874]\n",
      "Sampled value = [1.15299912 0.59138617 1.15299912]\n",
      "Sampled value = [1.54220526 1.54220526 1.54220526]\n",
      "Sampled value = [-0.83659795  1.43210203 -0.83659795]\n"
     ]
    }
   ],
   "source": [
    "with pm4.Model():\n",
    "    x = pm4.Uniform(\"x\", lower=-1, upper=0)\n",
    "    y = pm4.Uniform(\"y\", lower=0, upper=1)\n",
    "    z = pm4.Uniform(\"z\", lower=1, upper=2)\n",
    "    xyz = at.stack([x, y, z])\n",
    "    index = pm4.Categorical(\"index\", [.3, .3], shape=3)\n",
    "\n",
    "for _ in range(5):\n",
    "    print(\"Sampled value = {}\".format(xyz[index].eval()))"
   ]
  },
  {
   "cell_type": "markdown",
   "id": "75cc3855",
   "metadata": {},
   "source": [
    "## Support for for-loops in `scan`\n",
    "\n",
    "Sometimes you would like to create RVs in for-loops. This is very common in timeseries models. Wouldn't it be cool if we could write a Gaussian random walk like this:"
   ]
  },
  {
   "cell_type": "code",
   "execution_count": 91,
   "id": "8750fb7b",
   "metadata": {},
   "outputs": [
    {
     "data": {
      "text/plain": [
       "array([ 0.  ,  0.01,  0.09, -0.  ,  0.12,  0.16])"
      ]
     },
     "execution_count": 91,
     "metadata": {},
     "output_type": "execute_result"
    }
   ],
   "source": [
    "with pm4.Model():\n",
    "    y = [0]\n",
    "    for t in range(5):\n",
    "        y_t = pm4.Normal(f\"y_{t}\", sigma=.1)\n",
    "        y.append(y[-1] + y_t)\n",
    "    \n",
    "    random_walk = at.stack(y)\n",
    "\n",
    "random_walk.eval()"
   ]
  },
  {
   "cell_type": "markdown",
   "id": "3948624d",
   "metadata": {},
   "source": [
    "While that is possible, it is incredibly inefficient because creation and keeping track of individual RVs is very costly. That's why in general we advise users to do everything vectorized. \n",
    "\n",
    "This is also an area in which Stan shines where this is efficiently possible. With `aeppl`, however, we now have support for `aesara`-style for loops which come in the form of the `scan` operator. With this, we can create RVs *inside* `aesara.scan()`. So the above for-loop can be equivalently rewritten as:"
   ]
  },
  {
   "cell_type": "code",
   "execution_count": 137,
   "id": "9b41024a",
   "metadata": {},
   "outputs": [
    {
     "ename": "FileNotFoundError",
     "evalue": "[Errno 2] No such file or directory: '/Users/twiecki/miniforge3/envs/pymc4b1/lib/python3.8/site-packages/aesara/tensor/c_code/dimshuffle.c'",
     "output_type": "error",
     "traceback": [
      "\u001b[0;31m---------------------------------------------------------------------------\u001b[0m",
      "\u001b[0;31mFileNotFoundError\u001b[0m                         Traceback (most recent call last)",
      "\u001b[0;32m/var/folders/mn/0x4pxw0n61lf479ndp07r0gr0000gn/T/ipykernel_42277/786484366.py\u001b[0m in \u001b[0;36m<module>\u001b[0;34m\u001b[0m\n\u001b[1;32m      1\u001b[0m \u001b[0;32mwith\u001b[0m \u001b[0mpm4\u001b[0m\u001b[0;34m.\u001b[0m\u001b[0mModel\u001b[0m\u001b[0;34m(\u001b[0m\u001b[0;34m)\u001b[0m\u001b[0;34m:\u001b[0m\u001b[0;34m\u001b[0m\u001b[0;34m\u001b[0m\u001b[0m\n\u001b[0;32m----> 2\u001b[0;31m     random_walk, _ = aesara.scan(\n\u001b[0m\u001b[1;32m      3\u001b[0m         \u001b[0mfn\u001b[0m\u001b[0;34m=\u001b[0m\u001b[0;32mlambda\u001b[0m \u001b[0mY_tm1\u001b[0m\u001b[0;34m:\u001b[0m \u001b[0mY_tm1\u001b[0m \u001b[0;34m+\u001b[0m \u001b[0mpm4\u001b[0m\u001b[0;34m.\u001b[0m\u001b[0mNormal\u001b[0m\u001b[0;34m.\u001b[0m\u001b[0mdist\u001b[0m\u001b[0;34m(\u001b[0m\u001b[0msigma\u001b[0m\u001b[0;34m=\u001b[0m\u001b[0;36m.1\u001b[0m\u001b[0;34m)\u001b[0m\u001b[0;34m,\u001b[0m\u001b[0;34m\u001b[0m\u001b[0;34m\u001b[0m\u001b[0m\n\u001b[1;32m      4\u001b[0m         \u001b[0moutputs_info\u001b[0m\u001b[0;34m=\u001b[0m\u001b[0;34m[\u001b[0m\u001b[0;34m{\u001b[0m\u001b[0;34m\"initial\"\u001b[0m\u001b[0;34m:\u001b[0m \u001b[0mat\u001b[0m\u001b[0;34m.\u001b[0m\u001b[0mas_tensor\u001b[0m\u001b[0;34m(\u001b[0m\u001b[0;34m[\u001b[0m\u001b[0;36m0.0\u001b[0m\u001b[0;34m]\u001b[0m\u001b[0;34m)\u001b[0m\u001b[0;34m}\u001b[0m\u001b[0;34m]\u001b[0m\u001b[0;34m,\u001b[0m\u001b[0;34m\u001b[0m\u001b[0;34m\u001b[0m\u001b[0m\n\u001b[1;32m      5\u001b[0m         \u001b[0mn_steps\u001b[0m\u001b[0;34m=\u001b[0m\u001b[0;36m100\u001b[0m\u001b[0;34m,\u001b[0m\u001b[0;34m\u001b[0m\u001b[0;34m\u001b[0m\u001b[0m\n",
      "\u001b[0;32m~/miniforge3/envs/pymc4b1/lib/python3.8/site-packages/aesara/scan/basic.py\u001b[0m in \u001b[0;36mscan\u001b[0;34m(fn, sequences, outputs_info, non_sequences, n_steps, truncate_gradient, go_backwards, mode, name, profile, allow_gc, strict, return_list)\u001b[0m\n",
      "\u001b[0;32m~/miniforge3/envs/pymc4b1/lib/python3.8/site-packages/aesara/tensor/shape.py\u001b[0m in \u001b[0;36mshape_padleft\u001b[0;34m(t, n_ones)\u001b[0m\n",
      "\u001b[0;32m~/miniforge3/envs/pymc4b1/lib/python3.8/site-packages/aesara/tensor/var.py\u001b[0m in \u001b[0;36mdimshuffle\u001b[0;34m(self, *pattern)\u001b[0m\n",
      "\u001b[0;32m~/miniforge3/envs/pymc4b1/lib/python3.8/site-packages/aesara/tensor/elemwise.py\u001b[0m in \u001b[0;36m__init__\u001b[0;34m(self, input_broadcastable, new_order, inplace)\u001b[0m\n",
      "\u001b[0;32m~/miniforge3/envs/pymc4b1/lib/python3.8/site-packages/aesara/graph/op.py\u001b[0m in \u001b[0;36m__init__\u001b[0;34m(self, func_files, func_name)\u001b[0m\n",
      "\u001b[0;32m~/miniforge3/envs/pymc4b1/lib/python3.8/site-packages/aesara/graph/op.py\u001b[0m in \u001b[0;36mload_c_code\u001b[0;34m(self, func_files)\u001b[0m\n",
      "\u001b[0;31mFileNotFoundError\u001b[0m: [Errno 2] No such file or directory: '/Users/twiecki/miniforge3/envs/pymc4b1/lib/python3.8/site-packages/aesara/tensor/c_code/dimshuffle.c'"
     ]
    }
   ],
   "source": [
    "with pm4.Model():\n",
    "    random_walk, _ = aesara.scan(\n",
    "        fn=lambda Y_tm1: Y_tm1 + pm4.Normal.dist(sigma=.1),\n",
    "        outputs_info=[{\"initial\": at.as_tensor([0.0])}],\n",
    "        n_steps=100,\n",
    "        name=\"Y\"\n",
    "    )\n",
    "\n",
    "plt.plot(random_walk.eval())"
   ]
  },
  {
   "cell_type": "markdown",
   "id": "63b6c9d2",
   "metadata": {},
   "source": [
    "The syntax is famously cryptic. In brief, we define a `lambda` function we pass to `fn` that is executed inside the for-loop retrieving the previous value. The key here is that when we define the RV inside the `scan`, that this is now efficient in PyMC 4.0.\n",
    "\n",
    "This feature makes writing various other timeseries distributions much simpler and more flexible."
   ]
  },
  {
   "cell_type": "markdown",
   "id": "374a426b",
   "metadata": {},
   "source": [
    "## Better (and Dynamic) Shape Support\n",
    "\n",
    "Another big improvement in `PyMC` 4.0 is in how shapes are handled internally. Before this was also a bunch of complicated Python code because we did not make proper use of `aesara`. Now, everything is completely offloaded to `aesara`. As a sid-effect, this better shape support also allows dynamic RV shapes, where the shape depends on another RV:"
   ]
  },
  {
   "cell_type": "code",
   "execution_count": 66,
   "id": "0daf28f1",
   "metadata": {},
   "outputs": [
    {
     "name": "stdout",
     "output_type": "stream",
     "text": [
      "Value of z = [-0.36 -0.87]\n",
      "Value of z = [-0.43]\n",
      "Value of z = [-1.25 -0.07  0.6 ]\n",
      "Value of z = [-0.4   1.94]\n",
      "Value of z = [1.58]\n"
     ]
    }
   ],
   "source": [
    "with pm4.Model() as m:\n",
    "    x = pm4.Poisson('x', 2)\n",
    "    z = pm4.Normal('z', shape=x)\n",
    "    \n",
    "for _ in range(5):\n",
    "    print(\"Value of z = {}\".format(z.eval()))"
   ]
  },
  {
   "cell_type": "markdown",
   "id": "5b1cec0b",
   "metadata": {},
   "source": [
    "As you can see, the shape of `z` changes with each draw according to the integer sampled by `x`.\n",
    "\n",
    "Note, however, that this does not yet work for posterior inference (i.e. sampling). The reason is that the trace backend (`arviz.InferenceData`) as well as samplers in this case also must support changing dimensionality (like reversible-jump MCMC). There are plans to add this."
   ]
  },
  {
   "cell_type": "markdown",
   "id": "33c1900e",
   "metadata": {},
   "source": [
    "## Conditioning & Causal Inference"
   ]
  },
  {
   "cell_type": "code",
   "execution_count": 67,
   "id": "ee948605",
   "metadata": {},
   "outputs": [
    {
     "name": "stdout",
     "output_type": "stream",
     "text": [
      "10 samples from P(x | mu=0, sigma=0.1) = [ 0.03 -0.15  0.07 -0.02  0.12 -0.01  0.07  0.08 -0.05  0.01]\n"
     ]
    }
   ],
   "source": [
    "# 1. define joint P(mu, sigma, x)\n",
    "with pm4.Model() as m:\n",
    "    mu = pm4.Normal(\"mu\", 0, 1)\n",
    "    sigma = pm4.HalfNormal(\"sigma\", 1)\n",
    "    x = pm4.Normal(\"obs\", mu, sigma)\n",
    "\n",
    "# 2. Generate N samples from P(x|mu=0, sigma=0.1) \n",
    "N = 10\n",
    "cond_x = aesara.function([mu, sigma], x)\n",
    "_x = np.array([cond_x(0, 0.1) for _ in range(N)])\n",
    "\n",
    "print(\"10 samples from P(x | mu=0, sigma=0.1) = {}\".format(_x))"
   ]
  },
  {
   "cell_type": "markdown",
   "id": "b80cb4cf",
   "metadata": {},
   "source": [
    "## Better NUTS initialization\n",
    "\n",
    "We have also fixed an issue with the default NUTS warm-up which sometimes lead to the sampler getting stuck for a while. While fixing this issue, [Adrian Seyboldt](https://twitter.com/aseyboldt) also came up with a new initialization method that uses the gradients to estimate a better mass-matrix. You can use this (still experimental) feature by calling `pm.sample(init=\"jitter+adapt_diag_grad\")`.\n",
    "\n",
    "Let's try this on the hierarchical regression model from above:"
   ]
  },
  {
   "cell_type": "code",
   "execution_count": 95,
   "id": "f7c53fe9",
   "metadata": {},
   "outputs": [
    {
     "name": "stderr",
     "output_type": "stream",
     "text": [
      "Auto-assigning NUTS sampler...\n",
      "Initializing NUTS using jitter+adapt_diag_grad...\n",
      "/Users/twiecki/projects/pymc/pymc/model.py:984: FutureWarning: `Model.initial_point` has been deprecated. Use `Model.recompute_initial_point(seed=None)`.\n",
      "  warnings.warn(\n",
      "Multiprocess sampling (4 chains in 4 jobs)\n",
      "NUTS: [mu_a, sigma_a, mu_b, sigma_b, a, b, eps]\n",
      "WARNING (theano.link.c.cmodule): install mkl with `conda install mkl-service`: No module named 'mkl'\n",
      "!!!!!!!!!!!!!!!!!!!!!!!!!!!!!!!!!!!!!!!!!!!!!!!!!!!!!!!!!!!!\n",
      "Your Python environment has Theano(-PyMC) 1.1.2 installed, but you are importing PyMC 4.0.0b1 which uses Aesara as its backend.\n",
      "For PyMC 4.0.0b1 to work as expected you should uninstall Theano(-PyMC).\n",
      "See https://github.com/pymc-devs/pymc/wiki for update instructions.\n",
      "!!!!!!!!!!!!!!!!!!!!!!!!!!!!!!!!!!!!!!!!!!!!!!!!!!!!!!!!!!!!\n",
      "!!!!!!!!!!!!!!!!!!!!!!!!!!!!!!!!!!!!!!!!!!!!!!!!!!!!!!!!!!!!\n",
      "You are importing PyMC 4.0.0b1, but your environment also has the legacy version PyMC3 3.11.4 installed.\n",
      "For PyMC 4.0.0b1 to work as expected you should uninstall PyMC3.\n",
      "See https://github.com/pymc-devs/pymc/wiki for update instructions.\n",
      "!!!!!!!!!!!!!!!!!!!!!!!!!!!!!!!!!!!!!!!!!!!!!!!!!!!!!!!!!!!!\n",
      "WARNING (theano.link.c.cmodule): install mkl with `conda install mkl-service`: No module named 'mkl'\n",
      "!!!!!!!!!!!!!!!!!!!!!!!!!!!!!!!!!!!!!!!!!!!!!!!!!!!!!!!!!!!!\n",
      "Your Python environment has Theano(-PyMC) 1.1.2 installed, but you are importing PyMC 4.0.0b1 which uses Aesara as its backend.\n",
      "For PyMC 4.0.0b1 to work as expected you should uninstall Theano(-PyMC).\n",
      "See https://github.com/pymc-devs/pymc/wiki for update instructions.\n",
      "!!!!!!!!!!!!!!!!!!!!!!!!!!!!!!!!!!!!!!!!!!!!!!!!!!!!!!!!!!!!\n",
      "!!!!!!!!!!!!!!!!!!!!!!!!!!!!!!!!!!!!!!!!!!!!!!!!!!!!!!!!!!!!\n",
      "You are importing PyMC 4.0.0b1, but your environment also has the legacy version PyMC3 3.11.4 installed.\n",
      "For PyMC 4.0.0b1 to work as expected you should uninstall PyMC3.\n",
      "See https://github.com/pymc-devs/pymc/wiki for update instructions.\n",
      "!!!!!!!!!!!!!!!!!!!!!!!!!!!!!!!!!!!!!!!!!!!!!!!!!!!!!!!!!!!!\n",
      "WARNING (theano.link.c.cmodule): install mkl with `conda install mkl-service`: No module named 'mkl'\n",
      "!!!!!!!!!!!!!!!!!!!!!!!!!!!!!!!!!!!!!!!!!!!!!!!!!!!!!!!!!!!!\n",
      "Your Python environment has Theano(-PyMC) 1.1.2 installed, but you are importing PyMC 4.0.0b1 which uses Aesara as its backend.\n",
      "For PyMC 4.0.0b1 to work as expected you should uninstall Theano(-PyMC).\n",
      "See https://github.com/pymc-devs/pymc/wiki for update instructions.\n",
      "!!!!!!!!!!!!!!!!!!!!!!!!!!!!!!!!!!!!!!!!!!!!!!!!!!!!!!!!!!!!\n",
      "!!!!!!!!!!!!!!!!!!!!!!!!!!!!!!!!!!!!!!!!!!!!!!!!!!!!!!!!!!!!\n",
      "You are importing PyMC 4.0.0b1, but your environment also has the legacy version PyMC3 3.11.4 installed.\n",
      "For PyMC 4.0.0b1 to work as expected you should uninstall PyMC3.\n",
      "See https://github.com/pymc-devs/pymc/wiki for update instructions.\n",
      "!!!!!!!!!!!!!!!!!!!!!!!!!!!!!!!!!!!!!!!!!!!!!!!!!!!!!!!!!!!!\n",
      "WARNING (theano.link.c.cmodule): install mkl with `conda install mkl-service`: No module named 'mkl'\n",
      "!!!!!!!!!!!!!!!!!!!!!!!!!!!!!!!!!!!!!!!!!!!!!!!!!!!!!!!!!!!!\n",
      "Your Python environment has Theano(-PyMC) 1.1.2 installed, but you are importing PyMC 4.0.0b1 which uses Aesara as its backend.\n",
      "For PyMC 4.0.0b1 to work as expected you should uninstall Theano(-PyMC).\n",
      "See https://github.com/pymc-devs/pymc/wiki for update instructions.\n",
      "!!!!!!!!!!!!!!!!!!!!!!!!!!!!!!!!!!!!!!!!!!!!!!!!!!!!!!!!!!!!\n",
      "!!!!!!!!!!!!!!!!!!!!!!!!!!!!!!!!!!!!!!!!!!!!!!!!!!!!!!!!!!!!\n",
      "You are importing PyMC 4.0.0b1, but your environment also has the legacy version PyMC3 3.11.4 installed.\n",
      "For PyMC 4.0.0b1 to work as expected you should uninstall PyMC3.\n",
      "See https://github.com/pymc-devs/pymc/wiki for update instructions.\n",
      "!!!!!!!!!!!!!!!!!!!!!!!!!!!!!!!!!!!!!!!!!!!!!!!!!!!!!!!!!!!!\n"
     ]
    },
    {
     "data": {
      "text/html": [
       "\n",
       "    <div>\n",
       "        <style>\n",
       "            /* Turns off some styling */\n",
       "            progress {\n",
       "                /* gets rid of default border in Firefox and Opera. */\n",
       "                border: none;\n",
       "                /* Needs to be in here for Safari polyfill so background images work as expected. */\n",
       "                background-size: auto;\n",
       "            }\n",
       "            .progress-bar-interrupted, .progress-bar-interrupted::-webkit-progress-bar {\n",
       "                background: #F44336;\n",
       "            }\n",
       "        </style>\n",
       "      <progress value='8000' class='' max='8000' style='width:300px; height:20px; vertical-align: middle;'></progress>\n",
       "      100.00% [8000/8000 00:05<00:00 Sampling 4 chains, 0 divergences]\n",
       "    </div>\n",
       "    "
      ],
      "text/plain": [
       "<IPython.core.display.HTML object>"
      ]
     },
     "metadata": {},
     "output_type": "display_data"
    },
    {
     "name": "stderr",
     "output_type": "stream",
     "text": [
      "/Users/twiecki/miniforge3/envs/pymc4b1/lib/python3.8/site-packages/scipy/stats/_continuous_distns.py:624: RuntimeWarning: overflow encountered in _beta_ppf\n",
      "  return _boost._beta_ppf(q, a, b)\n",
      "/Users/twiecki/miniforge3/envs/pymc4b1/lib/python3.8/site-packages/scipy/stats/_continuous_distns.py:624: RuntimeWarning: overflow encountered in _beta_ppf\n",
      "  return _boost._beta_ppf(q, a, b)\n",
      "/Users/twiecki/miniforge3/envs/pymc4b1/lib/python3.8/site-packages/scipy/stats/_continuous_distns.py:624: RuntimeWarning: overflow encountered in _beta_ppf\n",
      "  return _boost._beta_ppf(q, a, b)\n",
      "/Users/twiecki/miniforge3/envs/pymc4b1/lib/python3.8/site-packages/scipy/stats/_continuous_distns.py:624: RuntimeWarning: overflow encountered in _beta_ppf\n",
      "  return _boost._beta_ppf(q, a, b)\n",
      "Sampling 4 chains for 1_000 tune and 1_000 draw iterations (4_000 + 4_000 draws total) took 15 seconds.\n",
      "The number of effective samples is smaller than 25% for some parameters.\n"
     ]
    }
   ],
   "source": [
    "model_pymc4_grad, idata_pymc4_grad = build_model(pm4, init=\"jitter+adapt_diag_grad\")"
   ]
  },
  {
   "cell_type": "markdown",
   "id": "9789798d",
   "metadata": {},
   "source": [
    "The first thing to observe as that we did not get any divergences this time. Comparing the effective sample size of the default and grad-based initialization, we can also see that it leads to much better sampling for certain parameters:"
   ]
  },
  {
   "cell_type": "code",
   "execution_count": 126,
   "id": "f65f04c3",
   "metadata": {},
   "outputs": [
    {
     "data": {
      "image/png": "[encoded data removed]",
      "text/plain": [
       "<Figure size 432x288 with 1 Axes>"
      ]
     },
     "metadata": {
      "needs_background": "light"
     },
     "output_type": "display_data"
    }
   ],
   "source": [
    "pd.DataFrame({\"Default init\": az.summary(idata_pymc4, var_names=[\"~a\", \"~b\"])[\"ess_bulk\"],\n",
    "              \"Grad-based init\": az.summary(idata_pymc4_grad, var_names=[\"~a\", \"~b\"])[\"ess_bulk\"]}).plot.barh()\n",
    "plt.xlabel(\"effective sample size (higher is better)\");"
   ]
  },
  {
   "cell_type": "markdown",
   "id": "b7f4454d",
   "metadata": {},
   "source": [
    "## What's not yet working\n",
    "\n",
    "Currently we are still missing a few features from PyMC3. These should not be hard to add and will be there for the 4.0 stable release. The list includes:\n",
    "\n",
    "* Timeseries distributions\n",
    "* Mixture Distributions\n",
    "\n",
    "## Accolades\n",
    "\n",
    "While many people contributed to this effort, we would like to highlight the outstanding contributions of [Brandon Willard](https://brandonwillard.github.io), [Ricardo Vieira](https://github.com/ricardoV94), and [Kaustubh Chaudhari](https://github.com/kc611) who did most of the work."
   ]
  }
 ],
 "metadata": {
  "_draft": {
   "nbviewer_url": "https://gist.github.com/badf23b78fd1237d16f4c1909ddbe3e3"
  },
  "gist": {
   "data": {
    "description": "PyMC3 vs PyMC 4.0.ipynb",
    "public": true
   },
   "id": "badf23b78fd1237d16f4c1909ddbe3e3"
  },
  "kernelspec": {
   "display_name": "pymc4b1",
   "language": "python",
   "name": "pymc4b1"
  },
  "language_info": {
   "codemirror_mode": {
    "name": "ipython",
    "version": 3
   },
   "file_extension": ".py",
   "mimetype": "text/x-python",
   "name": "python",
   "nbconvert_exporter": "python",
   "pygments_lexer": "ipython3",
   "version": "3.9.9"
  }
 },
 "nbformat": 4,
 "nbformat_minor": 5
}
