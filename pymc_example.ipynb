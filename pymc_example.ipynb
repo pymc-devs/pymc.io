{
 "cells": [
  {
   "cell_type": "code",
   "execution_count": null,
   "id": "b9c4dbb4",
   "metadata": {},
   "outputs": [],
   "source": [
    "# This cell is only needed in this documentation page\n",
    "# do not try to run this in your Notebooks if not using JupyterLite, it won't work :)\n",
    "import piplite\n",
    "\n",
    "await piplite.install(\"micropymc\")"
   ]
  },
  {
   "cell_type": "code",
   "execution_count": null,
   "id": "d162418f",
   "metadata": {},
   "outputs": [],
   "source": [
    "import pymc as pm\n",
    "\n",
    "n = 10; k = 5\n",
    "\n",
    "with pm.Model() as coin_flip_model:\n",
    "    p = pm.Beta(\"p\", alpha=1, beta=1)\n",
    "    obs = pm.Binomial(\"obs\", p=p, n=n,\n",
    "        observed=k,\n",
    "    )\n",
    "\n",
    "    idata = pm.sample()"
   ]
  },
  {
   "cell_type": "code",
   "execution_count": null,
   "id": "d56feef2",
   "metadata": {},
   "outputs": [],
   "source": [
    "import arviz as az\n",
    "\n",
    "az.plot_posterior(idata, show=True);"
   ]
  }
 ],
 "metadata": {
  "kernelspec": {
   "display_name": "Python 3 (ipykernel)",
   "language": "python",
   "name": "python3"
  },
  "language_info": {
   "codemirror_mode": {
    "name": "ipython",
    "version": 3
   },
   "file_extension": ".py",
   "mimetype": "text/x-python",
   "name": "python",
   "nbconvert_exporter": "python",
   "pygments_lexer": "ipython3",
   "version": "3.10.4"
  }
 },
 "nbformat": 4,
 "nbformat_minor": 5
}
