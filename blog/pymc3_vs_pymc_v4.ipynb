{
 "cells": [
  {
   "cell_type": "markdown",
   "id": "3e991cb4",
   "metadata": {},
   "source": [
    "(v4_announcement)=\n",
    "\n",
    "# PyMC 4.0 Release Announcement\n",
    "\n",
    ":::{post} Jun 10, 2022\n",
    ":tags: release, aesara, jax\n",
    ":category: news\n",
    ":author: Thomas Wiecki\n",
    ":::\n",
    "\n",
    "We, the PyMC core development team, are incredibly excited to announce the release of a major rewrite of PyMC3 (now called just PyMC): `4.0`. This marks the first major new version in over 10 years. Internally, we have already been using PyMC 4.0 almost exclusively for many months and found it to be very stable and better in every aspect. Every user should upgrade, as there are many exciting new updates that we will talk about in this and upcoming blog posts. \n",
    "\n",
    ":::{figure-md} versions_diagram\n",
    "\n",
    "![Diagram of the PyMC version history](pymc_versions.png)\n",
    "\n",
    "Graphic by [Ravin Kumar](https://twitter.com/canyon289)\n",
    ":::\n",
    "\n",
    "## Full API compatibility for model building\n",
    "To get the main question out of the way: Yes, you can just keep your existing PyMC modeling code without having to change anything (in most cases) and get all the improvements for free. The only thing most users will have to change is the import from `import pymc3 as pm` to `import pymc as pm`. For more information, see the [quick migration guide](https://www.pymc-labs.io/blog-posts/the-quickest-migration-guide-ever-from-pymc3-to-pymc-v40/). If you are using more advanced features of PyMC beyond the modeling API, you might have to change some things.\n",
    "\n",
    "## It's now called PyMC instead of PyMC3\n",
    "First, the biggest news: **PyMC3 has been renamed to PyMC. PyMC3 version 3.x will stay under the current name to not break production systems but future versions will use the PyMC name everywhere.** While there were a few reasons for this, the main one is that PyMC3 4.0 looks quite confusing.\n",
    "\n",
    "## What about PyMC4?\n",
    "If you don't know what PyMC4 (not PyMC 4.0, which is what this blog post is about) is, you can just skip this section. In brief, it was an experiment we did using TensorFlow Probability as a backend which we gave up on. The motivation for abandoning this is described in our previous post [\"The Future of PyMC3, or: Theano is Dead, Long Live Theano\"](https://pymc-devs.medium.com/the-future-of-pymc3-or-theano-is-dead-long-live-theano-d8005f8a0e9b)\n",
    "\n",
    "We know that it's easy to get confused between the discontinued PyMC4 and this new PyMC 4.0, but we just have to deal :).\n",
    "\n",
    "## Theano → Aesara\n",
    "While evaluating other tensor libraries like `TensorFlow` and `PyTorch` as new backends we realized how amazing and unique `Theano` really was. It has a mature and hackable code base and a simple graph representation that allows easy graph manipulations, something that's very useful for probabilistic programming languages. In addition, `TensorFlow` and `PyTorch` focus on a dynamic graph which is useful for some things, but for a probabilistic programming package, a static graph is actually much better, and `Theano` is the only library that provided this.\n",
    "\n",
    "So, we went ahead and forked the `Theano` library and undertook a massive cleaning up of the code-base (this charge was led by [Brandon Willard](https://twitter.com/brandontwillard)), removing swaths of old and obscure code, and restructuring the entire library to be more developer friendly.\n",
    "\n",
    "This rewrite motivated renaming the package to [`Aesara`](https://github.com/aesara-devs/aesara) (Theano's daughter in Greek mythology). Quickly, a new developer team focused around improving `aesara` independent of `PyMC`.\n",
    "\n",
    "One major new feature is support for other computational backends, namely `JAX` and `numba`. The way this works is that `aesara` is best understood as a computational graph library that allows you to build a computational graph out of array-operations (additions, multiplications, dot-products, indexing, for-loops). From this graph representation, we can do various things:\n",
    "* graph optimizations like `log(exp(x)) -> x`\n",
    "* symbolic rewrites like `N(0, 1) + a` -> `N(a, 1)`\n",
    "* compilation of that graph to various computational backends.\n",
    "\n",
    "Previously, `Theano` supported Python and C as computational backends. But with `aesara` it is now possible, and in fact quite easy, to add new computational backends. We have currently added a `JAX` backend that comes with GPU support (see [this blog post](https://martiningram.github.io/mcmc-comparison/) for some impressive speed-ups using GPUs for sampling). We're also in the process of adding a `numba` backend. But there are tons of other improvements to `aesara`, some of which we describe below.\n",
    "\n",
    "## What's new in PyMC 4.0?\n",
    "\n",
    "Alright, let's get to the good stuff. What makes PyMC 4.0 so awesome?"
   ]
  },
  {
   "cell_type": "markdown",
   "id": "6961936e",
   "metadata": {},
   "source": [
    "### New JAX backend for faster sampling\n",
    "\n",
    "By far the most shiny new feature is the new JAX backend and the associated speed-ups. \n",
    "\n",
    "How does it work? As mentioned above, `aesara` provides a representation of the model logp graph in form of various `aesara` `Ops` (operators) which represent the computations to be be performed. For example `exp(x + y)` would be an `Add` `Op` with two input arguments `x` and `y`. The result of the `Add` `Op` is then inputted into an `exp` `Op`.\n",
    "\n",
    "This computation graph doesn't say anything about how we actually *execute* this graph, however. Before, we would transpile this graph to C-code which would then get compiled, loaded into Python as a C-extension, and then executed. But now, we can just transpile this graph to `JAX` instead.\n",
    "\n",
    "While this by itself is already pretty exciting, because `JAX` (through `XLA`) is capable of a whole bunch of low-level optimizations which lead to faster model evaluation, our samplers are still written in Python, so there is still some call-overhead. \n",
    "\n",
    "To get rid of this, we can link the `JAX` graph produced by `aesara` with a sampler also written in `JAX`. That way, the model logp evaluation *and* the sampler are one big JAX graph that gets optimized and executed without any Python call-overhead. We currently support a NUTS implementation provided by [`numpyro`](http://pyro.ai/numpyro/) as well as [`blackjax`](https://github.com/blackjax-devs/blackjax).\n",
    "\n",
    "Early experiments and benchmarks show [impressive speed-ups](https://martiningram.github.io/mcmc-comparison/). Here is a small example of how much faster this is on a fairly small and simple model: the hierarchical linear regression of the famous Radon example."
   ]
  },
  {
   "cell_type": "code",
   "execution_count": 1,
   "id": "0bb8b07d",
   "metadata": {
    "hideOutput": true,
    "hidePrompt": true
   },
   "outputs": [
    {
     "name": "stderr",
     "output_type": "stream",
     "text": [
      "WARNING (theano.configdefaults): install mkl with `conda install mkl-service`: No module named 'mkl'\n",
      "WARNING (theano.configdefaults): install mkl with `conda install mkl-service`: No module named 'mkl'\n",
      "WARNING (theano.configdefaults): install mkl with `conda install mkl-service`: No module named 'mkl'\n",
      "WARNING (theano.configdefaults): install mkl with `conda install mkl-service`: No module named 'mkl'\n",
      "/Users/twiecki/miniforge3/envs/pymc4b5/lib/python3.10/site-packages/scipy/stats/_continuous_distns.py:624: RuntimeWarning: overflow encountered in _beta_ppf\n",
      "  return _boost._beta_ppf(q, a, b)\n",
      "/Users/twiecki/miniforge3/envs/pymc4b5/lib/python3.10/site-packages/scipy/stats/_continuous_distns.py:624: RuntimeWarning: overflow encountered in _beta_ppf\n",
      "  return _boost._beta_ppf(q, a, b)\n",
      "/Users/twiecki/miniforge3/envs/pymc4b5/lib/python3.10/site-packages/scipy/stats/_continuous_distns.py:624: RuntimeWarning: overflow encountered in _beta_ppf\n",
      "  return _boost._beta_ppf(q, a, b)\n",
      "/Users/twiecki/miniforge3/envs/pymc4b5/lib/python3.10/site-packages/scipy/stats/_continuous_distns.py:624: RuntimeWarning: overflow encountered in _beta_ppf\n",
      "  return _boost._beta_ppf(q, a, b)\n",
      "/Users/twiecki/miniforge3/envs/pymc4b5/lib/python3.10/site-packages/scipy/stats/_continuous_distns.py:624: RuntimeWarning: overflow encountered in _beta_ppf\n",
      "  return _boost._beta_ppf(q, a, b)\n",
      "/Users/twiecki/miniforge3/envs/pymc4b5/lib/python3.10/site-packages/scipy/stats/_continuous_distns.py:624: RuntimeWarning: overflow encountered in _beta_ppf\n",
      "  return _boost._beta_ppf(q, a, b)\n",
      "/Users/twiecki/miniforge3/envs/pymc4b5/lib/python3.10/site-packages/scipy/stats/_continuous_distns.py:624: RuntimeWarning: overflow encountered in _beta_ppf\n",
      "  return _boost._beta_ppf(q, a, b)\n",
      "/Users/twiecki/miniforge3/envs/pymc4b5/lib/python3.10/site-packages/scipy/stats/_continuous_distns.py:624: RuntimeWarning: overflow encountered in _beta_ppf\n",
      "  return _boost._beta_ppf(q, a, b)\n"
     ]
    }
   ],
   "source": [
    "# Standard imports\n",
    "import numpy as np\n",
    "import arviz as a\n",
    "import matplotlib.pyplot as plt\n",
    "import seaborn as sns\n",
    "import pandas as pd\n",
    "RANDOM_SEED = 8927\n",
    "rng = np.random.default_rng(RANDOM_SEED)\n",
    "np.set_printoptions(2)\n",
    "\n",
    "import os, sys\n",
    "sys.stderr = open(os.devnull, \"w\")"
   ]
  },
  {
   "cell_type": "markdown",
   "id": "b8419bfb",
   "metadata": {},
   "source": [
    "In order to do side-by-side comparisons, I installed both, the old `PyMC3` and `Theano` as well as the new `PyMC 4.0` and `Aesara` into this environment. You will only need the new packages of course."
   ]
  },
  {
   "cell_type": "code",
   "execution_count": 2,
   "id": "1892286c",
   "metadata": {
    "hidePrompt": true
   },
   "outputs": [],
   "source": [
    "# PyMC Imports\n",
    "import pymc3 as pm3 # PyMC3 3.11\n",
    "import pymc as pm # PyMC 4.0\n",
    "\n",
    "# Aesara and Theano imports\n",
    "import theano.tensor as tt # used by PyMC3 3.11\n",
    "import theano\n",
    "import aesara.tensor as at # used by PyMC 4.0\n",
    "import aesara"
   ]
  },
  {
   "cell_type": "markdown",
   "id": "457a069b",
   "metadata": {},
   "source": [
    "Load in radon dataset and preprocess:"
   ]
  },
  {
   "cell_type": "code",
   "execution_count": 3,
   "id": "56593190",
   "metadata": {
    "hidePrompt": true
   },
   "outputs": [],
   "source": [
    "data = pd.read_csv(pm.get_data(\"radon.csv\"))\n",
    "county_names = data.county.unique()\n",
    "\n",
    "data[\"log_radon\"] = data[\"log_radon\"].astype(theano.config.floatX)\n",
    "\n",
    "county_idx, counties = pd.factorize(data.county)\n",
    "coords = {\n",
    "    \"county\": counties,\n",
    "    \"obs_id\": np.arange(len(county_idx)),\n",
    "}"
   ]
  },
  {
   "cell_type": "markdown",
   "id": "ddc4fcc3",
   "metadata": {},
   "source": [
    "Next, let's define our model inside of a function. Note that we provide `pm`, our PyMC library, as an argument here. This is a bit unusual but allows us to create this model in `pymc3` or `pymc 4.0`, depending on which module we pass in. Here you can also see that most models that work in `pymc3` also work in `pymc 4.0` without any code change, you only need to change your imports."
   ]
  },
  {
   "cell_type": "code",
   "execution_count": 4,
   "id": "5677df97",
   "metadata": {
    "hidePrompt": true
   },
   "outputs": [],
   "source": [
    "def build_model(pm):\n",
    "    with pm.Model(coords=coords) as hierarchical_model:\n",
    "        # Intercepts, non-centered\n",
    "        mu_a = pm.Normal(\"mu_a\", mu=0.0, sigma=10)\n",
    "        sigma_a = pm.HalfNormal(\"sigma_a\", 1.0)\n",
    "        a = pm.Normal(\"a\", dims=\"county\") * sigma_a + mu_a\n",
    "        \n",
    "        # Slopes, non-centered\n",
    "        mu_b = pm.Normal(\"mu_b\", mu=0.0, sigma=2.)\n",
    "        sigma_b = pm.HalfNormal(\"sigma_b\", 1.0)\n",
    "        b = pm.Normal(\"b\", dims=\"county\") * sigma_b + mu_b\n",
    "        \n",
    "        eps = pm.HalfNormal(\"eps\", 1.5)\n",
    "        \n",
    "        radon_est = a[county_idx] + b[county_idx] * data.floor.values\n",
    "        \n",
    "        radon_like = pm.Normal(\n",
    "            \"radon_like\", mu=radon_est, sigma=eps, observed=data.log_radon, \n",
    "            dims=\"obs_id\"\n",
    "        )\n",
    "        \n",
    "    return hierarchical_model"
   ]
  },
  {
   "cell_type": "markdown",
   "id": "430fff1c",
   "metadata": {},
   "source": [
    "Create and sample model in `pymc3`, nothing special:"
   ]
  },
  {
   "cell_type": "code",
   "execution_count": 5,
   "id": "5ef92c94",
   "metadata": {
    "hidePrompt": true
   },
   "outputs": [],
   "source": [
    "model_pymc3 = build_model(pm3)"
   ]
  },
  {
   "cell_type": "code",
   "execution_count": 6,
   "id": "24d8528b",
   "metadata": {
    "hidePrompt": true,
    "scrolled": false
   },
   "outputs": [
    {
     "data": {
      "text/html": [
       "\n",
       "<style>\n",
       "    /* Turns off some styling */\n",
       "    progress {\n",
       "        /* gets rid of default border in Firefox and Opera. */\n",
       "        border: none;\n",
       "        /* Needs to be in here for Safari polyfill so background images work as expected. */\n",
       "        background-size: auto;\n",
       "    }\n",
       "    .progress-bar-interrupted, .progress-bar-interrupted::-webkit-progress-bar {\n",
       "        background: #F44336;\n",
       "    }\n",
       "</style>\n"
      ],
      "text/plain": [
       "<IPython.core.display.HTML object>"
      ]
     },
     "metadata": {},
     "output_type": "display_data"
    },
    {
     "data": {
      "text/html": [
       "\n",
       "    <div>\n",
       "      <progress value='8000' class='' max='8000' style='width:300px; height:20px; vertical-align: middle;'></progress>\n",
       "      100.00% [8000/8000 00:11<00:00 Sampling 4 chains, 0 divergences]\n",
       "    </div>\n",
       "    "
      ],
      "text/plain": [
       "<IPython.core.display.HTML object>"
      ]
     },
     "metadata": {},
     "output_type": "display_data"
    },
    {
     "name": "stdout",
     "output_type": "stream",
     "text": [
      "CPU times: user 1.86 s, sys: 232 ms, total: 2.1 s\n",
      "Wall time: 20.6 s\n"
     ]
    }
   ],
   "source": [
    "%%time\n",
    "with model_pymc3:\n",
    "    idata_pymc3 = pm3.sample(target_accept=0.9, return_inferencedata=True)"
   ]
  },
  {
   "cell_type": "markdown",
   "id": "6a26c73f",
   "metadata": {},
   "source": [
    "Create and sample model in `pymc` 4.0, also nothing special (but note that `pm.sample()` now returns and `InferenceData` object by default):"
   ]
  },
  {
   "cell_type": "code",
   "execution_count": 7,
   "id": "6b6b5894",
   "metadata": {
    "hidePrompt": true
   },
   "outputs": [],
   "source": [
    "model_pymc4 = build_model(pm)"
   ]
  },
  {
   "cell_type": "code",
   "execution_count": 8,
   "id": "3aad554c",
   "metadata": {
    "hidePrompt": true
   },
   "outputs": [
    {
     "data": {
      "text/html": [
       "\n",
       "<style>\n",
       "    /* Turns off some styling */\n",
       "    progress {\n",
       "        /* gets rid of default border in Firefox and Opera. */\n",
       "        border: none;\n",
       "        /* Needs to be in here for Safari polyfill so background images work as expected. */\n",
       "        background-size: auto;\n",
       "    }\n",
       "    .progress-bar-interrupted, .progress-bar-interrupted::-webkit-progress-bar {\n",
       "        background: #F44336;\n",
       "    }\n",
       "</style>\n"
      ],
      "text/plain": [
       "<IPython.core.display.HTML object>"
      ]
     },
     "metadata": {},
     "output_type": "display_data"
    },
    {
     "data": {
      "text/html": [
       "\n",
       "    <div>\n",
       "      <progress value='8000' class='' max='8000' style='width:300px; height:20px; vertical-align: middle;'></progress>\n",
       "      100.00% [8000/8000 00:06<00:00 Sampling 4 chains, 8 divergences]\n",
       "    </div>\n",
       "    "
      ],
      "text/plain": [
       "<IPython.core.display.HTML object>"
      ]
     },
     "metadata": {},
     "output_type": "display_data"
    },
    {
     "name": "stdout",
     "output_type": "stream",
     "text": [
      "CPU times: user 4.18 s, sys: 302 ms, total: 4.48 s\n",
      "Wall time: 16.6 s\n"
     ]
    }
   ],
   "source": [
    "%%time\n",
    "with model_pymc4:\n",
    "    idata_pymc4 = pm.sample(target_accept=0.9)"
   ]
  },
  {
   "cell_type": "markdown",
   "id": "977d0dcc",
   "metadata": {},
   "source": [
    "Now, lets use a JAX sampler instead. Here we use the one provided by `numpyro`. These samplers live in a different submodule `sampling_jax` but the plan is to integrate them into `pymc.sample(backend=\"JAX\")`."
   ]
  },
  {
   "cell_type": "code",
   "execution_count": 9,
   "id": "dc9cab6d",
   "metadata": {
    "hidePrompt": true
   },
   "outputs": [],
   "source": [
    "import pymc.sampling_jax"
   ]
  },
  {
   "cell_type": "code",
   "execution_count": 10,
   "id": "901becb4",
   "metadata": {
    "hidePrompt": true,
    "scrolled": true
   },
   "outputs": [
    {
     "name": "stdout",
     "output_type": "stream",
     "text": [
      "Compiling...\n",
      "Compilation time =  0:00:00.660080\n",
      "Sampling...\n",
      "Sampling time =  0:00:04.350968\n",
      "Transforming variables...\n",
      "Transformation time =  0:00:00.027262\n",
      "CPU times: user 7.68 s, sys: 120 ms, total: 7.8 s\n",
      "Wall time: 5.16 s\n"
     ]
    }
   ],
   "source": [
    "%%time\n",
    "with model_pymc4:\n",
    "    idata = pm.sampling_jax.sample_numpyro_nuts(target_accept=0.9, progress_bar=False)"
   ]
  },
  {
   "cell_type": "markdown",
   "id": "6daba83c",
   "metadata": {},
   "source": [
    "That's a 3x speed-up -- for a single-line code change (although we've seen speed-ups much more impressive than that in the 20x range)! And this is just running things on the CPU, we can just as easily run this on the GPU where we saw even more impressive speed-ups (especially as we scale the data).\n",
    "\n",
    "Again, for a more proper benchmark that also compares this to Stan, see [this blog post](https://martiningram.github.io/mcmc-comparison/).\n",
    "\n",
    "#### The Future: Samplers written in `aesara`\n",
    "\n",
    "While this current approach is already quite exciting, we can take this one step further. The setup we showed above takes the model logp graph (represented in `aesara`) and compiles it to `JAX`. The resulting `JAX` function we can then call from a sampler written in directly in `JAX` (i.e. `numpyro` or `blackjax`).\n",
    "\n",
    "While lightning fast, this is suboptimal for two reasons:\n",
    "1. For new backends, like `numba`, we would need to rewrite the sampler also in `numba`.\n",
    "2. While we get low-level optimizations from `JAX` on the logp+sampler JAX-graph, we do not get any high-level optimizations, which is what `aesara` is great at, because `aesara` does not see the sampler.\n",
    "\n",
    "With [`aehmc`](https://www.github.com/aesara-devs/aehmc) and [`aemcmc`](https://www.github.com/aesara-devs/aemcmc) the `aesara` devs are developing a library of samplers *written in `aesara`*. That way, our model logp, consisting out of `aesara` `Ops` can then be combined with the sampler logic, now also consisting out of `aesara` `Ops`, and form one big `aesara` graph.\n",
    "\n",
    "On that big graph containing model *and* sampler, `aesara` can the do high-level optimizations to get a more efficient graph representation. In a next step it can then compile it to whatever backend we want: `JAX`, `numba`, `C`, or whatever other backend we add in the future.\n",
    "\n",
    "If you think this is interesting, definitely check out these packages and consider contributing, this is where the next round of innovation will come from!"
   ]
  },
  {
   "cell_type": "markdown",
   "id": "4b81f0cd",
   "metadata": {},
   "source": [
    "## Better integration into `aesara`\n",
    "\n",
    "The next feature we are excited about is a better integration of `PyMC` into `aesara`.\n",
    "\n",
    "In `PyMC3 3.x`, the random variables (RVs) created by e.g. calling `x = pm.Normal('x')` were not truly `theano` `Ops` so they did not integrate as nicely with the rest of `theano`. This created a lot of issues, limitations, and complexities in the library.\n",
    "\n",
    "`Aesara` now provides a proper `RandomVariable` Op which perfectly integrates with the rest of the other `Ops`. \n",
    "\n",
    "This is a major change in `4.0` and lead to huge swaths of brittle code in PyMC3 get removed or greatly simplified. In many ways, this change is much more exciting than the different computational backends, but the effects are not quite as visible to the user.\n",
    "\n",
    "There are a few cases, however, where you can see the benefits."
   ]
  },
  {
   "cell_type": "markdown",
   "id": "44b2b973",
   "metadata": {},
   "source": [
    "### Faster posterior predictive sampling"
   ]
  },
  {
   "cell_type": "code",
   "execution_count": 11,
   "id": "be9adfd8",
   "metadata": {
    "hidePrompt": true
   },
   "outputs": [
    {
     "data": {
      "text/html": [
       "\n",
       "<style>\n",
       "    /* Turns off some styling */\n",
       "    progress {\n",
       "        /* gets rid of default border in Firefox and Opera. */\n",
       "        border: none;\n",
       "        /* Needs to be in here for Safari polyfill so background images work as expected. */\n",
       "        background-size: auto;\n",
       "    }\n",
       "    .progress-bar-interrupted, .progress-bar-interrupted::-webkit-progress-bar {\n",
       "        background: #F44336;\n",
       "    }\n",
       "</style>\n"
      ],
      "text/plain": [
       "<IPython.core.display.HTML object>"
      ]
     },
     "metadata": {},
     "output_type": "display_data"
    },
    {
     "data": {
      "text/html": [
       "\n",
       "    <div>\n",
       "      <progress value='4000' class='' max='4000' style='width:300px; height:20px; vertical-align: middle;'></progress>\n",
       "      100.00% [4000/4000 01:32<00:00]\n",
       "    </div>\n",
       "    "
      ],
      "text/plain": [
       "<IPython.core.display.HTML object>"
      ]
     },
     "metadata": {},
     "output_type": "display_data"
    },
    {
     "name": "stdout",
     "output_type": "stream",
     "text": [
      "CPU times: user 1min 28s, sys: 4.04 s, total: 1min 32s\n",
      "Wall time: 1min 33s\n"
     ]
    }
   ],
   "source": [
    "%%time\n",
    "\n",
    "with model_pymc3:\n",
    "    pm3.sample_posterior_predictive(idata_pymc3)"
   ]
  },
  {
   "cell_type": "code",
   "execution_count": 12,
   "id": "9ef50e85",
   "metadata": {
    "hidePrompt": true
   },
   "outputs": [
    {
     "data": {
      "text/html": [
       "\n",
       "<style>\n",
       "    /* Turns off some styling */\n",
       "    progress {\n",
       "        /* gets rid of default border in Firefox and Opera. */\n",
       "        border: none;\n",
       "        /* Needs to be in here for Safari polyfill so background images work as expected. */\n",
       "        background-size: auto;\n",
       "    }\n",
       "    .progress-bar-interrupted, .progress-bar-interrupted::-webkit-progress-bar {\n",
       "        background: #F44336;\n",
       "    }\n",
       "</style>\n"
      ],
      "text/plain": [
       "<IPython.core.display.HTML object>"
      ]
     },
     "metadata": {},
     "output_type": "display_data"
    },
    {
     "data": {
      "text/html": [
       "\n",
       "    <div>\n",
       "      <progress value='4000' class='' max='4000' style='width:300px; height:20px; vertical-align: middle;'></progress>\n",
       "      100.00% [4000/4000 00:00<00:00]\n",
       "    </div>\n",
       "    "
      ],
      "text/plain": [
       "<IPython.core.display.HTML object>"
      ]
     },
     "metadata": {},
     "output_type": "display_data"
    },
    {
     "name": "stdout",
     "output_type": "stream",
     "text": [
      "CPU times: user 4.23 s, sys: 46.3 ms, total: 4.27 s\n",
      "Wall time: 4.8 s\n"
     ]
    }
   ],
   "source": [
    "%%time\n",
    "\n",
    "with model_pymc4:\n",
    "    pm.sample_posterior_predictive(idata_pymc4)"
   ]
  },
  {
   "cell_type": "markdown",
   "id": "15599440",
   "metadata": {},
   "source": [
    "On this model, we get a speed-up of 22x!\n",
    "\n",
    "The reason for this is that predictive sampling is now happening as part of the `aesara` graph. Before, we were walking through the random variables in Python which was not only slow, but also very error-prone, so a lot of dev time was spent fixing bugs and rewriting this complicated piece of code. In `PyMC` 4.0, all that complexity is gone."
   ]
  },
  {
   "cell_type": "markdown",
   "id": "3d7ea093",
   "metadata": {},
   "source": [
    "## Work with RVs just like with Tensors\n",
    "\n",
    "In PyMC3, RVs as returned by e.g. `pm.Normal(\"x\")` behaved somewhat like a Tensor variable, but not *quite*. In PyMC 4.0, RVs are first-class Tensor variables that can be operated on much more freely."
   ]
  },
  {
   "cell_type": "code",
   "execution_count": 13,
   "id": "f8c21f0a",
   "metadata": {
    "hidePrompt": true
   },
   "outputs": [],
   "source": [
    "with pm3.Model():\n",
    "    x3 = pm3.Normal(\"x\")\n",
    "    \n",
    "with pm.Model():\n",
    "    x4 = pm.Normal(\"x\")"
   ]
  },
  {
   "cell_type": "code",
   "execution_count": 14,
   "id": "96bf2513",
   "metadata": {
    "hidePrompt": true
   },
   "outputs": [
    {
     "data": {
      "text/plain": [
       "pymc3.model.FreeRV"
      ]
     },
     "execution_count": 14,
     "metadata": {},
     "output_type": "execute_result"
    }
   ],
   "source": [
    "type(x3)"
   ]
  },
  {
   "cell_type": "code",
   "execution_count": 15,
   "id": "4974298a",
   "metadata": {
    "hidePrompt": true
   },
   "outputs": [
    {
     "data": {
      "text/plain": [
       "aesara.tensor.var.TensorVariable"
      ]
     },
     "execution_count": 15,
     "metadata": {},
     "output_type": "execute_result"
    }
   ],
   "source": [
    "type(x4)"
   ]
  },
  {
   "cell_type": "markdown",
   "id": "db22a81f",
   "metadata": {
    "hidePrompt": true
   },
   "source": [
    "Through the power of [`aeppl`](https://github.com/aesara-devs/aeppl) (a new low-level library that provides core building blocks for probabilistic programming languages on top of `aesara`), PyMC 4.0 allows you to do even more operations directly on the RV.\n",
    "\n",
    "For example, we can just call `aesara.tensor.clip()` on a RV to truncate certain parameter ranges. Separately, calling `.eval()` on a RV samples a random draw from the RV, this is also new in PyMC 4.0 and makes things more consistent and allows easy interactions with RVs. "
   ]
  },
  {
   "cell_type": "code",
   "execution_count": 16,
   "id": "78504a5e",
   "metadata": {
    "hidePrompt": true
   },
   "outputs": [
    {
     "data": {
      "text/plain": [
       "array(0.)"
      ]
     },
     "execution_count": 16,
     "metadata": {},
     "output_type": "execute_result"
    }
   ],
   "source": [
    "at.clip(x4, 0, np.inf).eval()"
   ]
  },
  {
   "cell_type": "code",
   "execution_count": 17,
   "id": "eea963c2",
   "metadata": {
    "hidePrompt": true
   },
   "outputs": [
    {
     "data": {
      "text/plain": [
       "<AxesSubplot:ylabel='Count'>"
      ]
     },
     "execution_count": 17,
     "metadata": {},
     "output_type": "execute_result"
    },
    {
     "data": {
      "image/png": "[encoded data removed]",
      "text/plain": [
       "<Figure size 432x288 with 1 Axes>"
      ]
     },
     "metadata": {
      "needs_background": "light"
     },
     "output_type": "display_data"
    }
   ],
   "source": [
    "trunc_norm = [at.clip(x4, 0, np.inf).eval() for _ in range(1000)]\n",
    "sns.histplot(np.asarray(trunc_norm))"
   ]
  },
  {
   "cell_type": "markdown",
   "id": "36b741ff",
   "metadata": {},
   "source": [
    "As you can see, negative values are clipped to be 0. And you can use this, just like any other transform, directly in your model."
   ]
  },
  {
   "cell_type": "markdown",
   "id": "dba592c9",
   "metadata": {},
   "source": [
    "But there are other things you can do as well, like `stack()` RVs, and then index into them with a binary RV."
   ]
  },
  {
   "cell_type": "code",
   "execution_count": 18,
   "id": "6a42b3b7",
   "metadata": {
    "hidePrompt": true
   },
   "outputs": [
    {
     "name": "stdout",
     "output_type": "stream",
     "text": [
      "Sampled value = -0.18\n",
      "Sampled value = -0.20\n",
      "Sampled value = -0.94\n",
      "Sampled value = 0.65\n",
      "Sampled value = 0.91\n"
     ]
    }
   ],
   "source": [
    "with pm.Model():\n",
    "    x = pm.Uniform(\"x\", lower=-1, upper=0) # only negtive\n",
    "    y = pm.Uniform(\"y\", lower=0, upper=1) # only positive\n",
    "    xy = at.stack([x, y]) # combined\n",
    "    index = pm.Bernoulli(\"index\", p=0.5) # index 0 or 1\n",
    "    \n",
    "    indexed_RV = xy[index] # binary index into stacked variable\n",
    "\n",
    "for _ in range(5):\n",
    "    print(\"Sampled value = {:.2f}\".format(indexed_RV.eval()))"
   ]
  },
  {
   "cell_type": "markdown",
   "id": "94b12cb2",
   "metadata": {},
   "source": [
    "As you can see, depending on whether `index` is `0` or `1` we either sample from the negative or positive uniform. This also supports fancy indexing, so you can manually create complicated mixture distribution using a `Categorical` like this:"
   ]
  },
  {
   "cell_type": "code",
   "execution_count": 19,
   "id": "77432dbe",
   "metadata": {
    "hidePrompt": true
   },
   "outputs": [
    {
     "name": "stdout",
     "output_type": "stream",
     "text": [
      "Sampled value = [ 0.93  0.93 -0.78]\n",
      "Sampled value = [-0.71 -0.71  0.98]\n",
      "Sampled value = [-0.43 -0.43 -0.43]\n",
      "Sampled value = [ 0.84 -0.03 -0.03]\n",
      "Sampled value = [ 0.54 -0.76 -0.76]\n"
     ]
    }
   ],
   "source": [
    "with pm.Model():\n",
    "    x = pm.Uniform(\"x\", lower=-1, upper=0)\n",
    "    y = pm.Uniform(\"y\", lower=0, upper=1)\n",
    "    z = pm.Uniform(\"z\", lower=1, upper=2)\n",
    "    xyz = at.stack([x, y, z])\n",
    "    index = pm.Categorical(\"index\", [.3, .3], shape=3)\n",
    "    \n",
    "    index_RV = xyz[index]\n",
    "\n",
    "for _ in range(5):\n",
    "    print(\"Sampled value = {}\".format(index_RV.eval()))"
   ]
  },
  {
   "cell_type": "markdown",
   "id": "374a426b",
   "metadata": {},
   "source": [
    "## Better (and Dynamic) Shape Support\n",
    "\n",
    "Another big improvement in `PyMC` 4.0 is in how shapes are handled internally. Before, there was also a bunch of complicated and brittle Python code to handle shapes. Internally, we had a joke where we counted how many days had passed until we had discovered a new shape bug. But no more! Now, all shape handling is completely offloaded to `aesara` which handles this properly. As a side-effect, this better shape support also allows dynamic RV shapes, where the shape depends on another RV:"
   ]
  },
  {
   "cell_type": "code",
   "execution_count": 20,
   "id": "0daf28f1",
   "metadata": {
    "hidePrompt": true
   },
   "outputs": [
    {
     "name": "stdout",
     "output_type": "stream",
     "text": [
      "Value of z = [0.22]\n",
      "Value of z = []\n",
      "Value of z = [ 0.97 -1.07]\n",
      "Value of z = [ 0.26 -0.59 -2.05]\n",
      "Value of z = [-1.04  0.23  0.4 ]\n"
     ]
    }
   ],
   "source": [
    "with pm.Model() as m:\n",
    "    x = pm.Poisson('x', 2)\n",
    "    z = pm.Normal('z', shape=x)\n",
    "    \n",
    "for _ in range(5):\n",
    "    print(\"Value of z = {}\".format(z.eval()))"
   ]
  },
  {
   "cell_type": "markdown",
   "id": "5b1cec0b",
   "metadata": {},
   "source": [
    "As you can see, the shape of `z` changes with each draw according to the integer sampled by `x`.\n",
    "\n",
    "Note, however, that this does not yet work for posterior inference (i.e. sampling). The reason is that the trace backend (`arviz.InferenceData`) as well as samplers in this case also must support changing dimensionality (like reversible-jump MCMC). There are plans to add this."
   ]
  },
  {
   "cell_type": "markdown",
   "id": "b80cb4cf",
   "metadata": {},
   "source": [
    "## Better NUTS initialization\n",
    "\n",
    "We have also fixed an issue with the default NUTS warm-up which sometimes lead to the sampler getting stuck for a while. While fixing this issue, [Adrian Seyboldt](https://twitter.com/aseyboldt) also came up with a new initialization method that uses the gradients to estimate a better mass-matrix. You can use this (still experimental) feature by calling `pm.sample(init=\"jitter+adapt_diag_grad\")`.\n",
    "\n",
    "Let's try this on the hierarchical regression model from above:"
   ]
  },
  {
   "cell_type": "code",
   "execution_count": 21,
   "id": "f7c53fe9",
   "metadata": {
    "hidePrompt": true
   },
   "outputs": [
    {
     "data": {
      "text/html": [
       "\n",
       "<style>\n",
       "    /* Turns off some styling */\n",
       "    progress {\n",
       "        /* gets rid of default border in Firefox and Opera. */\n",
       "        border: none;\n",
       "        /* Needs to be in here for Safari polyfill so background images work as expected. */\n",
       "        background-size: auto;\n",
       "    }\n",
       "    .progress-bar-interrupted, .progress-bar-interrupted::-webkit-progress-bar {\n",
       "        background: #F44336;\n",
       "    }\n",
       "</style>\n"
      ],
      "text/plain": [
       "<IPython.core.display.HTML object>"
      ]
     },
     "metadata": {},
     "output_type": "display_data"
    },
    {
     "data": {
      "text/html": [
       "\n",
       "    <div>\n",
       "      <progress value='8000' class='' max='8000' style='width:300px; height:20px; vertical-align: middle;'></progress>\n",
       "      100.00% [8000/8000 00:07<00:00 Sampling 4 chains, 0 divergences]\n",
       "    </div>\n",
       "    "
      ],
      "text/plain": [
       "<IPython.core.display.HTML object>"
      ]
     },
     "metadata": {},
     "output_type": "display_data"
    }
   ],
   "source": [
    "with model_pymc4:\n",
    "    idata_pymc4_grad = pm.sample(init=\"jitter+adapt_diag_grad\", target_accept=0.9)"
   ]
  },
  {
   "cell_type": "markdown",
   "id": "9789798d",
   "metadata": {},
   "source": [
    "The first thing to observe as that we did not get any divergences this time. Comparing the effective sample size of the default and grad-based initialization, we can also see that it leads to much better sampling for certain parameters:"
   ]
  },
  {
   "cell_type": "code",
   "execution_count": 22,
   "id": "f65f04c3",
   "metadata": {
    "hidePrompt": true
   },
   "outputs": [
    {
     "data": {
      "image/png": "[encoded data removed]",
      "text/plain": [
       "<Figure size 432x288 with 1 Axes>"
      ]
     },
     "metadata": {
      "needs_background": "light"
     },
     "output_type": "display_data"
    }
   ],
   "source": [
    "import arviz as az\n",
    "\n",
    "pd.DataFrame({\"Default init\": az.summary(idata_pymc4, var_names=[\"~a\", \"~b\"])[\"ess_bulk\"],\n",
    "              \"Grad-based init\": az.summary(idata_pymc4_grad, var_names=[\"~a\", \"~b\"])[\"ess_bulk\"]}).plot.barh()\n",
    "plt.xlabel(\"effective sample size (higher is better)\");"
   ]
  },
  {
   "cell_type": "markdown",
   "id": "4873d78b",
   "metadata": {},
   "source": [
    "## PyMC in the browser\n",
    "\n",
    "Did you know that you can run PyMC in the browser now too? This is possible with [PyScript](https://www.pyscript.net). Check out [this blog post](https://www.pymc-labs.io/blog-posts/pymc-in-browser/) which has a small demo."
   ]
  },
  {
   "cell_type": "markdown",
   "id": "3575a5aa",
   "metadata": {},
   "source": [
    "## Installation\n",
    "\n",
    "Excited to try it out? Great! `conda install -c conda-forge pymc` should get you going. For detailed instructions, see [here](https://docs.pymc.io/en/latest/installation.html)."
   ]
  },
  {
   "cell_type": "markdown",
   "id": "e3ed800a",
   "metadata": {},
   "source": [
    "## A Look Towards the Future\n",
    "\n",
    "As mentioned in the beginning, `aesara` is a unique library in the PyData ecosystem as it is the only one that provides a static, mutable computation graph. Having direct access to this computation graph allows for many interesting features. Above we already mentioned simplfications like turning `exp(log(x))` into `x`, and `aesara` already implements many of these. While we don't have proper benchmarks, we noticed major speed-ups of porting models from PyMC3 to 4.0, even without the JAX backend.\n",
    "\n",
    "But these graph rewrites can become much more sophisticated. For example, [a beta prior on a binomial likelihood can be replaced with its analytical solution directly by exploiting conjugacy](https://github.com/aesara-devs/aemcmc/pull/29). \n",
    "\n",
    "Or a hierarchical model written in a centered parameterization can automatically be converted to its [non-centered analog](https://twiecki.io/blog/2017/02/08/bayesian-hierchical-non-centered/) which often samples much more efficiently. These model reparameterizations can make a huge difference in how well a model samples. Unforutnately, these reparameterizations still require intimate knowledge of the math and a deep understanding of the posterior geometry, nothing a casual PyMC user would be familiar with. So with these graph rewrites we will be able to automatically reparameterize a PyMC model for you and find the configuration that samples most efficiently.\n",
    "\n",
    "**In sum, we believe PyMC 4.0 is the best version yet and pushes the state of the art in probabilistic programming. But it's also stepping stone to many more innovations to come. Thanks for being a part of it.**"
   ]
  },
  {
   "cell_type": "markdown",
   "id": "3846e9ba",
   "metadata": {},
   "source": [
    "## Call to Action\n",
    "\n",
    "Want to help us build the future of probabilistic programming? It's the perfect time to get involved.\n",
    "If you're interested in:\n",
    "* low-level → [aesara](https://github.com/aesara-devs/aesara)\n",
    "* user-friendly API → [PyMC](https://github.com/pymc-devs/pymc)\n",
    "* building models and docs → [PyMC documentation](https://github.com/pymc-devs/pymc-examples)\n",
    "\n",
    "Also, follow us on [Twitter](https://twitter.com/pymc_devs) to stay up-to-date and join our [MeetUp group](https://www.meetup.com/pymc-online-meetup/) for upcoming events. If you're looking for consulting to solve your most challenging data science problems using PyMC, check out [PyMC Labs](https://pymc-labs.io)."
   ]
  },
  {
   "cell_type": "markdown",
   "id": "b7f4454d",
   "metadata": {},
   "source": [
    "## Accolades\n",
    "\n",
    "While many people contributed to this effort, we would like to highlight the outstanding contributions of [Brandon Willard](https://brandonwillard.github.io), [Ricardo Vieira](https://github.com/ricardoV94), and [Kaustubh Chaudhari](https://github.com/kc611) who lead this gigantic effort."
   ]
  }
 ],
 "metadata": {
  "_draft": {
   "nbviewer_url": "https://gist.github.com/badf23b78fd1237d16f4c1909ddbe3e3"
  },
  "celltoolbar": "Hide code",
  "gist": {
   "data": {
    "description": "PyMC3 vs PyMC 4.0.ipynb",
    "public": true
   },
   "id": "badf23b78fd1237d16f4c1909ddbe3e3"
  },
  "kernelspec": {
   "display_name": "Python 3 (ipykernel)",
   "language": "python",
   "name": "python3"
  },
  "language_info": {
   "codemirror_mode": {
    "name": "ipython",
    "version": 3
   },
   "file_extension": ".py",
   "mimetype": "text/x-python",
   "name": "python",
   "nbconvert_exporter": "python",
   "pygments_lexer": "ipython3",
   "version": "3.9.10"
  }
 },
 "nbformat": 4,
 "nbformat_minor": 5
}
